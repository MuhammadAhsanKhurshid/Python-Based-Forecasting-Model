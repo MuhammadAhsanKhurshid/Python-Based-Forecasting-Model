{
 "cells": [
  {
   "cell_type": "code",
   "execution_count": 1,
   "id": "8c4637e2",
   "metadata": {
    "_cell_guid": "b1076dfc-b9ad-4769-8c92-a6c4dae69d19",
    "_uuid": "8f2839f25d086af736a60e9eeb907d3b93b6e0e5",
    "execution": {
     "iopub.execute_input": "2025-01-11T11:55:09.883621Z",
     "iopub.status.busy": "2025-01-11T11:55:09.883193Z",
     "iopub.status.idle": "2025-01-11T11:55:10.266447Z",
     "shell.execute_reply": "2025-01-11T11:55:10.265311Z"
    },
    "papermill": {
     "duration": 0.397691,
     "end_time": "2025-01-11T11:55:10.268503",
     "exception": false,
     "start_time": "2025-01-11T11:55:09.870812",
     "status": "completed"
    },
    "tags": []
   },
   "outputs": [],
   "source": [
    "# This Python 3 environment comes with many helpful analytics libraries installed\n",
    "# It is defined by the kaggle/python Docker image: https://github.com/kaggle/docker-python\n",
    "# For example, here's several helpful packages to load\n",
    "\n",
    "import numpy as np # linear algebra\n",
    "import pandas as pd # data processing, CSV file I/O (e.g. pd.read_csv)\n",
    "\n",
    "# Input data files are available in the read-only \"../input/\" directory\n",
    "# For example, running this (by clicking run or pressing Shift+Enter) will list all files under the input directory\n",
    "\n",
    "import os\n",
    "for dirname, _, filenames in os.walk('kaggle competitions download -c competitive-data-science-predict-future-sales'):\n",
    "    for filename in filenames:\n",
    "        print(os.path.join(dirname, filename))\n",
    "\n",
    "# You can write up to 20GB to the current directory (/kaggle/working/) that gets preserved as output when you create a version using \"Save & Run All\" \n",
    "# You can also write temporary files to /kaggle/temp/, but they won't be saved outside of the current session"
   ]
  },
  {
   "cell_type": "code",
   "execution_count": null,
   "id": "0f0745c0",
   "metadata": {
    "papermill": {
     "duration": 0.009989,
     "end_time": "2025-01-11T11:55:10.290225",
     "exception": false,
     "start_time": "2025-01-11T11:55:10.280236",
     "status": "completed"
    },
    "tags": []
   },
   "outputs": [],
   "source": []
  },
  {
   "cell_type": "code",
   "execution_count": 2,
   "id": "02d5acaf",
   "metadata": {
    "execution": {
     "iopub.execute_input": "2025-01-11T11:55:10.312485Z",
     "iopub.status.busy": "2025-01-11T11:55:10.312024Z",
     "iopub.status.idle": "2025-01-11T11:55:10.318547Z",
     "shell.execute_reply": "2025-01-11T11:55:10.317645Z"
    },
    "papermill": {
     "duration": 0.019616,
     "end_time": "2025-01-11T11:55:10.320219",
     "exception": false,
     "start_time": "2025-01-11T11:55:10.300603",
     "status": "completed"
    },
    "tags": []
   },
   "outputs": [
    {
     "data": {
      "text/plain": [
       "\"import os;\\nos.listdir('/kaggle/working')\""
      ]
     },
     "execution_count": 2,
     "metadata": {},
     "output_type": "execute_result"
    }
   ],
   "source": [
    "'''import os;\n",
    "os.listdir('/kaggle/working')'''\n"
   ]
  },
  {
   "cell_type": "code",
   "execution_count": 3,
   "id": "cd9c1cd6",
   "metadata": {
    "execution": {
     "iopub.execute_input": "2025-01-11T11:55:10.344139Z",
     "iopub.status.busy": "2025-01-11T11:55:10.343806Z",
     "iopub.status.idle": "2025-01-11T11:55:10.360561Z",
     "shell.execute_reply": "2025-01-11T11:55:10.359260Z"
    },
    "papermill": {
     "duration": 0.030148,
     "end_time": "2025-01-11T11:55:10.362497",
     "exception": false,
     "start_time": "2025-01-11T11:55:10.332349",
     "status": "completed"
    },
    "tags": []
   },
   "outputs": [],
   "source": [
    "\n",
    "import pandas as pd \n",
    "df_item_category = pd.read_csv('/kaggle/input/competitive-data-science-predict-future-sales/item_categories.csv')"
   ]
  },
  {
   "cell_type": "code",
   "execution_count": 4,
   "id": "0a0ccae5",
   "metadata": {
    "execution": {
     "iopub.execute_input": "2025-01-11T11:55:10.386712Z",
     "iopub.status.busy": "2025-01-11T11:55:10.386233Z",
     "iopub.status.idle": "2025-01-11T11:55:10.403637Z",
     "shell.execute_reply": "2025-01-11T11:55:10.402585Z"
    },
    "papermill": {
     "duration": 0.031363,
     "end_time": "2025-01-11T11:55:10.405431",
     "exception": false,
     "start_time": "2025-01-11T11:55:10.374068",
     "status": "completed"
    },
    "tags": []
   },
   "outputs": [
    {
     "data": {
      "text/html": [
       "<div>\n",
       "<style scoped>\n",
       "    .dataframe tbody tr th:only-of-type {\n",
       "        vertical-align: middle;\n",
       "    }\n",
       "\n",
       "    .dataframe tbody tr th {\n",
       "        vertical-align: top;\n",
       "    }\n",
       "\n",
       "    .dataframe thead th {\n",
       "        text-align: right;\n",
       "    }\n",
       "</style>\n",
       "<table border=\"1\" class=\"dataframe\">\n",
       "  <thead>\n",
       "    <tr style=\"text-align: right;\">\n",
       "      <th></th>\n",
       "      <th>item_category_name</th>\n",
       "      <th>item_category_id</th>\n",
       "    </tr>\n",
       "  </thead>\n",
       "  <tbody>\n",
       "    <tr>\n",
       "      <th>0</th>\n",
       "      <td>PC - Гарнитуры/Наушники</td>\n",
       "      <td>0</td>\n",
       "    </tr>\n",
       "    <tr>\n",
       "      <th>1</th>\n",
       "      <td>Аксессуары - PS2</td>\n",
       "      <td>1</td>\n",
       "    </tr>\n",
       "    <tr>\n",
       "      <th>2</th>\n",
       "      <td>Аксессуары - PS3</td>\n",
       "      <td>2</td>\n",
       "    </tr>\n",
       "    <tr>\n",
       "      <th>3</th>\n",
       "      <td>Аксессуары - PS4</td>\n",
       "      <td>3</td>\n",
       "    </tr>\n",
       "    <tr>\n",
       "      <th>4</th>\n",
       "      <td>Аксессуары - PSP</td>\n",
       "      <td>4</td>\n",
       "    </tr>\n",
       "    <tr>\n",
       "      <th>...</th>\n",
       "      <td>...</td>\n",
       "      <td>...</td>\n",
       "    </tr>\n",
       "    <tr>\n",
       "      <th>79</th>\n",
       "      <td>Служебные</td>\n",
       "      <td>79</td>\n",
       "    </tr>\n",
       "    <tr>\n",
       "      <th>80</th>\n",
       "      <td>Служебные - Билеты</td>\n",
       "      <td>80</td>\n",
       "    </tr>\n",
       "    <tr>\n",
       "      <th>81</th>\n",
       "      <td>Чистые носители (шпиль)</td>\n",
       "      <td>81</td>\n",
       "    </tr>\n",
       "    <tr>\n",
       "      <th>82</th>\n",
       "      <td>Чистые носители (штучные)</td>\n",
       "      <td>82</td>\n",
       "    </tr>\n",
       "    <tr>\n",
       "      <th>83</th>\n",
       "      <td>Элементы питания</td>\n",
       "      <td>83</td>\n",
       "    </tr>\n",
       "  </tbody>\n",
       "</table>\n",
       "<p>84 rows × 2 columns</p>\n",
       "</div>"
      ],
      "text/plain": [
       "           item_category_name  item_category_id\n",
       "0     PC - Гарнитуры/Наушники                 0\n",
       "1            Аксессуары - PS2                 1\n",
       "2            Аксессуары - PS3                 2\n",
       "3            Аксессуары - PS4                 3\n",
       "4            Аксессуары - PSP                 4\n",
       "..                        ...               ...\n",
       "79                  Служебные                79\n",
       "80         Служебные - Билеты                80\n",
       "81    Чистые носители (шпиль)                81\n",
       "82  Чистые носители (штучные)                82\n",
       "83           Элементы питания                83\n",
       "\n",
       "[84 rows x 2 columns]"
      ]
     },
     "execution_count": 4,
     "metadata": {},
     "output_type": "execute_result"
    }
   ],
   "source": [
    "df_item_category"
   ]
  },
  {
   "cell_type": "code",
   "execution_count": 5,
   "id": "ce1116c3",
   "metadata": {
    "execution": {
     "iopub.execute_input": "2025-01-11T11:55:10.428841Z",
     "iopub.status.busy": "2025-01-11T11:55:10.428378Z",
     "iopub.status.idle": "2025-01-11T11:55:10.504013Z",
     "shell.execute_reply": "2025-01-11T11:55:10.503085Z"
    },
    "papermill": {
     "duration": 0.089777,
     "end_time": "2025-01-11T11:55:10.506349",
     "exception": false,
     "start_time": "2025-01-11T11:55:10.416572",
     "status": "completed"
    },
    "tags": []
   },
   "outputs": [],
   "source": [
    "df_items=pd.read_csv('/kaggle/input/competitive-data-science-predict-future-sales/items.csv')"
   ]
  },
  {
   "cell_type": "code",
   "execution_count": 6,
   "id": "e979f477",
   "metadata": {
    "execution": {
     "iopub.execute_input": "2025-01-11T11:55:10.530113Z",
     "iopub.status.busy": "2025-01-11T11:55:10.529734Z",
     "iopub.status.idle": "2025-01-11T11:55:10.541000Z",
     "shell.execute_reply": "2025-01-11T11:55:10.540016Z"
    },
    "papermill": {
     "duration": 0.024954,
     "end_time": "2025-01-11T11:55:10.542846",
     "exception": false,
     "start_time": "2025-01-11T11:55:10.517892",
     "status": "completed"
    },
    "tags": []
   },
   "outputs": [
    {
     "data": {
      "text/html": [
       "<div>\n",
       "<style scoped>\n",
       "    .dataframe tbody tr th:only-of-type {\n",
       "        vertical-align: middle;\n",
       "    }\n",
       "\n",
       "    .dataframe tbody tr th {\n",
       "        vertical-align: top;\n",
       "    }\n",
       "\n",
       "    .dataframe thead th {\n",
       "        text-align: right;\n",
       "    }\n",
       "</style>\n",
       "<table border=\"1\" class=\"dataframe\">\n",
       "  <thead>\n",
       "    <tr style=\"text-align: right;\">\n",
       "      <th></th>\n",
       "      <th>item_name</th>\n",
       "      <th>item_id</th>\n",
       "      <th>item_category_id</th>\n",
       "    </tr>\n",
       "  </thead>\n",
       "  <tbody>\n",
       "    <tr>\n",
       "      <th>0</th>\n",
       "      <td>! ВО ВЛАСТИ НАВАЖДЕНИЯ (ПЛАСТ.)         D</td>\n",
       "      <td>0</td>\n",
       "      <td>40</td>\n",
       "    </tr>\n",
       "    <tr>\n",
       "      <th>1</th>\n",
       "      <td>!ABBYY FineReader 12 Professional Edition Full...</td>\n",
       "      <td>1</td>\n",
       "      <td>76</td>\n",
       "    </tr>\n",
       "    <tr>\n",
       "      <th>2</th>\n",
       "      <td>***В ЛУЧАХ СЛАВЫ   (UNV)                    D</td>\n",
       "      <td>2</td>\n",
       "      <td>40</td>\n",
       "    </tr>\n",
       "    <tr>\n",
       "      <th>3</th>\n",
       "      <td>***ГОЛУБАЯ ВОЛНА  (Univ)                      D</td>\n",
       "      <td>3</td>\n",
       "      <td>40</td>\n",
       "    </tr>\n",
       "    <tr>\n",
       "      <th>4</th>\n",
       "      <td>***КОРОБКА (СТЕКЛО)                       D</td>\n",
       "      <td>4</td>\n",
       "      <td>40</td>\n",
       "    </tr>\n",
       "    <tr>\n",
       "      <th>...</th>\n",
       "      <td>...</td>\n",
       "      <td>...</td>\n",
       "      <td>...</td>\n",
       "    </tr>\n",
       "    <tr>\n",
       "      <th>22165</th>\n",
       "      <td>Ядерный титбит 2 [PC, Цифровая версия]</td>\n",
       "      <td>22165</td>\n",
       "      <td>31</td>\n",
       "    </tr>\n",
       "    <tr>\n",
       "      <th>22166</th>\n",
       "      <td>Язык запросов 1С:Предприятия  [Цифровая версия]</td>\n",
       "      <td>22166</td>\n",
       "      <td>54</td>\n",
       "    </tr>\n",
       "    <tr>\n",
       "      <th>22167</th>\n",
       "      <td>Язык запросов 1С:Предприятия 8 (+CD). Хрустале...</td>\n",
       "      <td>22167</td>\n",
       "      <td>49</td>\n",
       "    </tr>\n",
       "    <tr>\n",
       "      <th>22168</th>\n",
       "      <td>Яйцо для Little Inu</td>\n",
       "      <td>22168</td>\n",
       "      <td>62</td>\n",
       "    </tr>\n",
       "    <tr>\n",
       "      <th>22169</th>\n",
       "      <td>Яйцо дракона (Игра престолов)</td>\n",
       "      <td>22169</td>\n",
       "      <td>69</td>\n",
       "    </tr>\n",
       "  </tbody>\n",
       "</table>\n",
       "<p>22170 rows × 3 columns</p>\n",
       "</div>"
      ],
      "text/plain": [
       "                                               item_name  item_id  \\\n",
       "0              ! ВО ВЛАСТИ НАВАЖДЕНИЯ (ПЛАСТ.)         D        0   \n",
       "1      !ABBYY FineReader 12 Professional Edition Full...        1   \n",
       "2          ***В ЛУЧАХ СЛАВЫ   (UNV)                    D        2   \n",
       "3        ***ГОЛУБАЯ ВОЛНА  (Univ)                      D        3   \n",
       "4            ***КОРОБКА (СТЕКЛО)                       D        4   \n",
       "...                                                  ...      ...   \n",
       "22165             Ядерный титбит 2 [PC, Цифровая версия]    22165   \n",
       "22166    Язык запросов 1С:Предприятия  [Цифровая версия]    22166   \n",
       "22167  Язык запросов 1С:Предприятия 8 (+CD). Хрустале...    22167   \n",
       "22168                                Яйцо для Little Inu    22168   \n",
       "22169                      Яйцо дракона (Игра престолов)    22169   \n",
       "\n",
       "       item_category_id  \n",
       "0                    40  \n",
       "1                    76  \n",
       "2                    40  \n",
       "3                    40  \n",
       "4                    40  \n",
       "...                 ...  \n",
       "22165                31  \n",
       "22166                54  \n",
       "22167                49  \n",
       "22168                62  \n",
       "22169                69  \n",
       "\n",
       "[22170 rows x 3 columns]"
      ]
     },
     "execution_count": 6,
     "metadata": {},
     "output_type": "execute_result"
    }
   ],
   "source": [
    "df_items"
   ]
  },
  {
   "cell_type": "code",
   "execution_count": 7,
   "id": "43bd306c",
   "metadata": {
    "execution": {
     "iopub.execute_input": "2025-01-11T11:55:10.566898Z",
     "iopub.status.busy": "2025-01-11T11:55:10.566438Z",
     "iopub.status.idle": "2025-01-11T11:55:12.963644Z",
     "shell.execute_reply": "2025-01-11T11:55:12.962533Z"
    },
    "papermill": {
     "duration": 2.410959,
     "end_time": "2025-01-11T11:55:12.965586",
     "exception": false,
     "start_time": "2025-01-11T11:55:10.554627",
     "status": "completed"
    },
    "tags": []
   },
   "outputs": [],
   "source": [
    "df_sales_train=pd.read_csv(\"/kaggle/input/competitive-data-science-predict-future-sales/sales_train.csv\")"
   ]
  },
  {
   "cell_type": "code",
   "execution_count": 8,
   "id": "a357285d",
   "metadata": {
    "execution": {
     "iopub.execute_input": "2025-01-11T11:55:12.989162Z",
     "iopub.status.busy": "2025-01-11T11:55:12.988790Z",
     "iopub.status.idle": "2025-01-11T11:55:13.004335Z",
     "shell.execute_reply": "2025-01-11T11:55:13.003269Z"
    },
    "papermill": {
     "duration": 0.028954,
     "end_time": "2025-01-11T11:55:13.006130",
     "exception": false,
     "start_time": "2025-01-11T11:55:12.977176",
     "status": "completed"
    },
    "tags": []
   },
   "outputs": [
    {
     "data": {
      "text/html": [
       "<div>\n",
       "<style scoped>\n",
       "    .dataframe tbody tr th:only-of-type {\n",
       "        vertical-align: middle;\n",
       "    }\n",
       "\n",
       "    .dataframe tbody tr th {\n",
       "        vertical-align: top;\n",
       "    }\n",
       "\n",
       "    .dataframe thead th {\n",
       "        text-align: right;\n",
       "    }\n",
       "</style>\n",
       "<table border=\"1\" class=\"dataframe\">\n",
       "  <thead>\n",
       "    <tr style=\"text-align: right;\">\n",
       "      <th></th>\n",
       "      <th>date</th>\n",
       "      <th>date_block_num</th>\n",
       "      <th>shop_id</th>\n",
       "      <th>item_id</th>\n",
       "      <th>item_price</th>\n",
       "      <th>item_cnt_day</th>\n",
       "    </tr>\n",
       "  </thead>\n",
       "  <tbody>\n",
       "    <tr>\n",
       "      <th>0</th>\n",
       "      <td>02.01.2013</td>\n",
       "      <td>0</td>\n",
       "      <td>59</td>\n",
       "      <td>22154</td>\n",
       "      <td>999.00</td>\n",
       "      <td>1.0</td>\n",
       "    </tr>\n",
       "    <tr>\n",
       "      <th>1</th>\n",
       "      <td>03.01.2013</td>\n",
       "      <td>0</td>\n",
       "      <td>25</td>\n",
       "      <td>2552</td>\n",
       "      <td>899.00</td>\n",
       "      <td>1.0</td>\n",
       "    </tr>\n",
       "    <tr>\n",
       "      <th>2</th>\n",
       "      <td>05.01.2013</td>\n",
       "      <td>0</td>\n",
       "      <td>25</td>\n",
       "      <td>2552</td>\n",
       "      <td>899.00</td>\n",
       "      <td>-1.0</td>\n",
       "    </tr>\n",
       "    <tr>\n",
       "      <th>3</th>\n",
       "      <td>06.01.2013</td>\n",
       "      <td>0</td>\n",
       "      <td>25</td>\n",
       "      <td>2554</td>\n",
       "      <td>1709.05</td>\n",
       "      <td>1.0</td>\n",
       "    </tr>\n",
       "    <tr>\n",
       "      <th>4</th>\n",
       "      <td>15.01.2013</td>\n",
       "      <td>0</td>\n",
       "      <td>25</td>\n",
       "      <td>2555</td>\n",
       "      <td>1099.00</td>\n",
       "      <td>1.0</td>\n",
       "    </tr>\n",
       "    <tr>\n",
       "      <th>...</th>\n",
       "      <td>...</td>\n",
       "      <td>...</td>\n",
       "      <td>...</td>\n",
       "      <td>...</td>\n",
       "      <td>...</td>\n",
       "      <td>...</td>\n",
       "    </tr>\n",
       "    <tr>\n",
       "      <th>2935844</th>\n",
       "      <td>10.10.2015</td>\n",
       "      <td>33</td>\n",
       "      <td>25</td>\n",
       "      <td>7409</td>\n",
       "      <td>299.00</td>\n",
       "      <td>1.0</td>\n",
       "    </tr>\n",
       "    <tr>\n",
       "      <th>2935845</th>\n",
       "      <td>09.10.2015</td>\n",
       "      <td>33</td>\n",
       "      <td>25</td>\n",
       "      <td>7460</td>\n",
       "      <td>299.00</td>\n",
       "      <td>1.0</td>\n",
       "    </tr>\n",
       "    <tr>\n",
       "      <th>2935846</th>\n",
       "      <td>14.10.2015</td>\n",
       "      <td>33</td>\n",
       "      <td>25</td>\n",
       "      <td>7459</td>\n",
       "      <td>349.00</td>\n",
       "      <td>1.0</td>\n",
       "    </tr>\n",
       "    <tr>\n",
       "      <th>2935847</th>\n",
       "      <td>22.10.2015</td>\n",
       "      <td>33</td>\n",
       "      <td>25</td>\n",
       "      <td>7440</td>\n",
       "      <td>299.00</td>\n",
       "      <td>1.0</td>\n",
       "    </tr>\n",
       "    <tr>\n",
       "      <th>2935848</th>\n",
       "      <td>03.10.2015</td>\n",
       "      <td>33</td>\n",
       "      <td>25</td>\n",
       "      <td>7460</td>\n",
       "      <td>299.00</td>\n",
       "      <td>1.0</td>\n",
       "    </tr>\n",
       "  </tbody>\n",
       "</table>\n",
       "<p>2935849 rows × 6 columns</p>\n",
       "</div>"
      ],
      "text/plain": [
       "               date  date_block_num  shop_id  item_id  item_price  \\\n",
       "0        02.01.2013               0       59    22154      999.00   \n",
       "1        03.01.2013               0       25     2552      899.00   \n",
       "2        05.01.2013               0       25     2552      899.00   \n",
       "3        06.01.2013               0       25     2554     1709.05   \n",
       "4        15.01.2013               0       25     2555     1099.00   \n",
       "...             ...             ...      ...      ...         ...   \n",
       "2935844  10.10.2015              33       25     7409      299.00   \n",
       "2935845  09.10.2015              33       25     7460      299.00   \n",
       "2935846  14.10.2015              33       25     7459      349.00   \n",
       "2935847  22.10.2015              33       25     7440      299.00   \n",
       "2935848  03.10.2015              33       25     7460      299.00   \n",
       "\n",
       "         item_cnt_day  \n",
       "0                 1.0  \n",
       "1                 1.0  \n",
       "2                -1.0  \n",
       "3                 1.0  \n",
       "4                 1.0  \n",
       "...               ...  \n",
       "2935844           1.0  \n",
       "2935845           1.0  \n",
       "2935846           1.0  \n",
       "2935847           1.0  \n",
       "2935848           1.0  \n",
       "\n",
       "[2935849 rows x 6 columns]"
      ]
     },
     "execution_count": 8,
     "metadata": {},
     "output_type": "execute_result"
    }
   ],
   "source": [
    "df_sales_train"
   ]
  },
  {
   "cell_type": "code",
   "execution_count": 9,
   "id": "a3299248",
   "metadata": {
    "execution": {
     "iopub.execute_input": "2025-01-11T11:55:13.029900Z",
     "iopub.status.busy": "2025-01-11T11:55:13.029551Z",
     "iopub.status.idle": "2025-01-11T11:55:13.111902Z",
     "shell.execute_reply": "2025-01-11T11:55:13.111059Z"
    },
    "papermill": {
     "duration": 0.096615,
     "end_time": "2025-01-11T11:55:13.114060",
     "exception": false,
     "start_time": "2025-01-11T11:55:13.017445",
     "status": "completed"
    },
    "tags": []
   },
   "outputs": [],
   "source": [
    "df_sample_submission=pd.read_csv('/kaggle/input/competitive-data-science-predict-future-sales/sample_submission.csv')"
   ]
  },
  {
   "cell_type": "code",
   "execution_count": 10,
   "id": "8b3f988f",
   "metadata": {
    "execution": {
     "iopub.execute_input": "2025-01-11T11:55:13.139080Z",
     "iopub.status.busy": "2025-01-11T11:55:13.138736Z",
     "iopub.status.idle": "2025-01-11T11:55:13.149408Z",
     "shell.execute_reply": "2025-01-11T11:55:13.148253Z"
    },
    "papermill": {
     "duration": 0.025007,
     "end_time": "2025-01-11T11:55:13.151216",
     "exception": false,
     "start_time": "2025-01-11T11:55:13.126209",
     "status": "completed"
    },
    "tags": []
   },
   "outputs": [
    {
     "data": {
      "text/html": [
       "<div>\n",
       "<style scoped>\n",
       "    .dataframe tbody tr th:only-of-type {\n",
       "        vertical-align: middle;\n",
       "    }\n",
       "\n",
       "    .dataframe tbody tr th {\n",
       "        vertical-align: top;\n",
       "    }\n",
       "\n",
       "    .dataframe thead th {\n",
       "        text-align: right;\n",
       "    }\n",
       "</style>\n",
       "<table border=\"1\" class=\"dataframe\">\n",
       "  <thead>\n",
       "    <tr style=\"text-align: right;\">\n",
       "      <th></th>\n",
       "      <th>ID</th>\n",
       "      <th>item_cnt_month</th>\n",
       "    </tr>\n",
       "  </thead>\n",
       "  <tbody>\n",
       "    <tr>\n",
       "      <th>0</th>\n",
       "      <td>0</td>\n",
       "      <td>0.5</td>\n",
       "    </tr>\n",
       "    <tr>\n",
       "      <th>1</th>\n",
       "      <td>1</td>\n",
       "      <td>0.5</td>\n",
       "    </tr>\n",
       "    <tr>\n",
       "      <th>2</th>\n",
       "      <td>2</td>\n",
       "      <td>0.5</td>\n",
       "    </tr>\n",
       "    <tr>\n",
       "      <th>3</th>\n",
       "      <td>3</td>\n",
       "      <td>0.5</td>\n",
       "    </tr>\n",
       "    <tr>\n",
       "      <th>4</th>\n",
       "      <td>4</td>\n",
       "      <td>0.5</td>\n",
       "    </tr>\n",
       "    <tr>\n",
       "      <th>...</th>\n",
       "      <td>...</td>\n",
       "      <td>...</td>\n",
       "    </tr>\n",
       "    <tr>\n",
       "      <th>214195</th>\n",
       "      <td>214195</td>\n",
       "      <td>0.5</td>\n",
       "    </tr>\n",
       "    <tr>\n",
       "      <th>214196</th>\n",
       "      <td>214196</td>\n",
       "      <td>0.5</td>\n",
       "    </tr>\n",
       "    <tr>\n",
       "      <th>214197</th>\n",
       "      <td>214197</td>\n",
       "      <td>0.5</td>\n",
       "    </tr>\n",
       "    <tr>\n",
       "      <th>214198</th>\n",
       "      <td>214198</td>\n",
       "      <td>0.5</td>\n",
       "    </tr>\n",
       "    <tr>\n",
       "      <th>214199</th>\n",
       "      <td>214199</td>\n",
       "      <td>0.5</td>\n",
       "    </tr>\n",
       "  </tbody>\n",
       "</table>\n",
       "<p>214200 rows × 2 columns</p>\n",
       "</div>"
      ],
      "text/plain": [
       "            ID  item_cnt_month\n",
       "0            0             0.5\n",
       "1            1             0.5\n",
       "2            2             0.5\n",
       "3            3             0.5\n",
       "4            4             0.5\n",
       "...        ...             ...\n",
       "214195  214195             0.5\n",
       "214196  214196             0.5\n",
       "214197  214197             0.5\n",
       "214198  214198             0.5\n",
       "214199  214199             0.5\n",
       "\n",
       "[214200 rows x 2 columns]"
      ]
     },
     "execution_count": 10,
     "metadata": {},
     "output_type": "execute_result"
    }
   ],
   "source": [
    "df_sample_submission"
   ]
  },
  {
   "cell_type": "code",
   "execution_count": 11,
   "id": "1e255329",
   "metadata": {
    "execution": {
     "iopub.execute_input": "2025-01-11T11:55:13.175251Z",
     "iopub.status.busy": "2025-01-11T11:55:13.174908Z",
     "iopub.status.idle": "2025-01-11T11:55:13.183635Z",
     "shell.execute_reply": "2025-01-11T11:55:13.182735Z"
    },
    "papermill": {
     "duration": 0.022543,
     "end_time": "2025-01-11T11:55:13.185202",
     "exception": false,
     "start_time": "2025-01-11T11:55:13.162659",
     "status": "completed"
    },
    "tags": []
   },
   "outputs": [],
   "source": [
    "df_shops=pd.read_csv('/kaggle/input/competitive-data-science-predict-future-sales/shops.csv')"
   ]
  },
  {
   "cell_type": "code",
   "execution_count": 12,
   "id": "d98ca14b",
   "metadata": {
    "execution": {
     "iopub.execute_input": "2025-01-11T11:55:13.209680Z",
     "iopub.status.busy": "2025-01-11T11:55:13.209248Z",
     "iopub.status.idle": "2025-01-11T11:55:13.220828Z",
     "shell.execute_reply": "2025-01-11T11:55:13.219722Z"
    },
    "papermill": {
     "duration": 0.02552,
     "end_time": "2025-01-11T11:55:13.222365",
     "exception": false,
     "start_time": "2025-01-11T11:55:13.196845",
     "status": "completed"
    },
    "tags": []
   },
   "outputs": [
    {
     "data": {
      "text/html": [
       "<div>\n",
       "<style scoped>\n",
       "    .dataframe tbody tr th:only-of-type {\n",
       "        vertical-align: middle;\n",
       "    }\n",
       "\n",
       "    .dataframe tbody tr th {\n",
       "        vertical-align: top;\n",
       "    }\n",
       "\n",
       "    .dataframe thead th {\n",
       "        text-align: right;\n",
       "    }\n",
       "</style>\n",
       "<table border=\"1\" class=\"dataframe\">\n",
       "  <thead>\n",
       "    <tr style=\"text-align: right;\">\n",
       "      <th></th>\n",
       "      <th>shop_name</th>\n",
       "      <th>shop_id</th>\n",
       "    </tr>\n",
       "  </thead>\n",
       "  <tbody>\n",
       "    <tr>\n",
       "      <th>0</th>\n",
       "      <td>!Якутск Орджоникидзе, 56 фран</td>\n",
       "      <td>0</td>\n",
       "    </tr>\n",
       "    <tr>\n",
       "      <th>1</th>\n",
       "      <td>!Якутск ТЦ \"Центральный\" фран</td>\n",
       "      <td>1</td>\n",
       "    </tr>\n",
       "    <tr>\n",
       "      <th>2</th>\n",
       "      <td>Адыгея ТЦ \"Мега\"</td>\n",
       "      <td>2</td>\n",
       "    </tr>\n",
       "    <tr>\n",
       "      <th>3</th>\n",
       "      <td>Балашиха ТРК \"Октябрь-Киномир\"</td>\n",
       "      <td>3</td>\n",
       "    </tr>\n",
       "    <tr>\n",
       "      <th>4</th>\n",
       "      <td>Волжский ТЦ \"Волга Молл\"</td>\n",
       "      <td>4</td>\n",
       "    </tr>\n",
       "    <tr>\n",
       "      <th>5</th>\n",
       "      <td>Вологда ТРЦ \"Мармелад\"</td>\n",
       "      <td>5</td>\n",
       "    </tr>\n",
       "    <tr>\n",
       "      <th>6</th>\n",
       "      <td>Воронеж (Плехановская, 13)</td>\n",
       "      <td>6</td>\n",
       "    </tr>\n",
       "    <tr>\n",
       "      <th>7</th>\n",
       "      <td>Воронеж ТРЦ \"Максимир\"</td>\n",
       "      <td>7</td>\n",
       "    </tr>\n",
       "    <tr>\n",
       "      <th>8</th>\n",
       "      <td>Воронеж ТРЦ Сити-Парк \"Град\"</td>\n",
       "      <td>8</td>\n",
       "    </tr>\n",
       "    <tr>\n",
       "      <th>9</th>\n",
       "      <td>Выездная Торговля</td>\n",
       "      <td>9</td>\n",
       "    </tr>\n",
       "    <tr>\n",
       "      <th>10</th>\n",
       "      <td>Жуковский ул. Чкалова 39м?</td>\n",
       "      <td>10</td>\n",
       "    </tr>\n",
       "    <tr>\n",
       "      <th>11</th>\n",
       "      <td>Жуковский ул. Чкалова 39м²</td>\n",
       "      <td>11</td>\n",
       "    </tr>\n",
       "    <tr>\n",
       "      <th>12</th>\n",
       "      <td>Интернет-магазин ЧС</td>\n",
       "      <td>12</td>\n",
       "    </tr>\n",
       "    <tr>\n",
       "      <th>13</th>\n",
       "      <td>Казань ТЦ \"Бехетле\"</td>\n",
       "      <td>13</td>\n",
       "    </tr>\n",
       "    <tr>\n",
       "      <th>14</th>\n",
       "      <td>Казань ТЦ \"ПаркХаус\" II</td>\n",
       "      <td>14</td>\n",
       "    </tr>\n",
       "    <tr>\n",
       "      <th>15</th>\n",
       "      <td>Калуга ТРЦ \"XXI век\"</td>\n",
       "      <td>15</td>\n",
       "    </tr>\n",
       "    <tr>\n",
       "      <th>16</th>\n",
       "      <td>Коломна ТЦ \"Рио\"</td>\n",
       "      <td>16</td>\n",
       "    </tr>\n",
       "    <tr>\n",
       "      <th>17</th>\n",
       "      <td>Красноярск ТЦ \"Взлетка Плаза\"</td>\n",
       "      <td>17</td>\n",
       "    </tr>\n",
       "    <tr>\n",
       "      <th>18</th>\n",
       "      <td>Красноярск ТЦ \"Июнь\"</td>\n",
       "      <td>18</td>\n",
       "    </tr>\n",
       "    <tr>\n",
       "      <th>19</th>\n",
       "      <td>Курск ТЦ \"Пушкинский\"</td>\n",
       "      <td>19</td>\n",
       "    </tr>\n",
       "    <tr>\n",
       "      <th>20</th>\n",
       "      <td>Москва \"Распродажа\"</td>\n",
       "      <td>20</td>\n",
       "    </tr>\n",
       "    <tr>\n",
       "      <th>21</th>\n",
       "      <td>Москва МТРЦ \"Афи Молл\"</td>\n",
       "      <td>21</td>\n",
       "    </tr>\n",
       "    <tr>\n",
       "      <th>22</th>\n",
       "      <td>Москва Магазин С21</td>\n",
       "      <td>22</td>\n",
       "    </tr>\n",
       "    <tr>\n",
       "      <th>23</th>\n",
       "      <td>Москва ТК \"Буденовский\" (пав.А2)</td>\n",
       "      <td>23</td>\n",
       "    </tr>\n",
       "    <tr>\n",
       "      <th>24</th>\n",
       "      <td>Москва ТК \"Буденовский\" (пав.К7)</td>\n",
       "      <td>24</td>\n",
       "    </tr>\n",
       "    <tr>\n",
       "      <th>25</th>\n",
       "      <td>Москва ТРК \"Атриум\"</td>\n",
       "      <td>25</td>\n",
       "    </tr>\n",
       "    <tr>\n",
       "      <th>26</th>\n",
       "      <td>Москва ТЦ \"Ареал\" (Беляево)</td>\n",
       "      <td>26</td>\n",
       "    </tr>\n",
       "    <tr>\n",
       "      <th>27</th>\n",
       "      <td>Москва ТЦ \"МЕГА Белая Дача II\"</td>\n",
       "      <td>27</td>\n",
       "    </tr>\n",
       "    <tr>\n",
       "      <th>28</th>\n",
       "      <td>Москва ТЦ \"МЕГА Теплый Стан\" II</td>\n",
       "      <td>28</td>\n",
       "    </tr>\n",
       "    <tr>\n",
       "      <th>29</th>\n",
       "      <td>Москва ТЦ \"Новый век\" (Новокосино)</td>\n",
       "      <td>29</td>\n",
       "    </tr>\n",
       "    <tr>\n",
       "      <th>30</th>\n",
       "      <td>Москва ТЦ \"Перловский\"</td>\n",
       "      <td>30</td>\n",
       "    </tr>\n",
       "    <tr>\n",
       "      <th>31</th>\n",
       "      <td>Москва ТЦ \"Семеновский\"</td>\n",
       "      <td>31</td>\n",
       "    </tr>\n",
       "    <tr>\n",
       "      <th>32</th>\n",
       "      <td>Москва ТЦ \"Серебряный Дом\"</td>\n",
       "      <td>32</td>\n",
       "    </tr>\n",
       "    <tr>\n",
       "      <th>33</th>\n",
       "      <td>Мытищи ТРК \"XL-3\"</td>\n",
       "      <td>33</td>\n",
       "    </tr>\n",
       "    <tr>\n",
       "      <th>34</th>\n",
       "      <td>Н.Новгород ТРЦ \"РИО\"</td>\n",
       "      <td>34</td>\n",
       "    </tr>\n",
       "    <tr>\n",
       "      <th>35</th>\n",
       "      <td>Н.Новгород ТРЦ \"Фантастика\"</td>\n",
       "      <td>35</td>\n",
       "    </tr>\n",
       "    <tr>\n",
       "      <th>36</th>\n",
       "      <td>Новосибирск ТРЦ \"Галерея Новосибирск\"</td>\n",
       "      <td>36</td>\n",
       "    </tr>\n",
       "    <tr>\n",
       "      <th>37</th>\n",
       "      <td>Новосибирск ТЦ \"Мега\"</td>\n",
       "      <td>37</td>\n",
       "    </tr>\n",
       "    <tr>\n",
       "      <th>38</th>\n",
       "      <td>Омск ТЦ \"Мега\"</td>\n",
       "      <td>38</td>\n",
       "    </tr>\n",
       "    <tr>\n",
       "      <th>39</th>\n",
       "      <td>РостовНаДону ТРК \"Мегацентр Горизонт\"</td>\n",
       "      <td>39</td>\n",
       "    </tr>\n",
       "    <tr>\n",
       "      <th>40</th>\n",
       "      <td>РостовНаДону ТРК \"Мегацентр Горизонт\" Островной</td>\n",
       "      <td>40</td>\n",
       "    </tr>\n",
       "    <tr>\n",
       "      <th>41</th>\n",
       "      <td>РостовНаДону ТЦ \"Мега\"</td>\n",
       "      <td>41</td>\n",
       "    </tr>\n",
       "    <tr>\n",
       "      <th>42</th>\n",
       "      <td>СПб ТК \"Невский Центр\"</td>\n",
       "      <td>42</td>\n",
       "    </tr>\n",
       "    <tr>\n",
       "      <th>43</th>\n",
       "      <td>СПб ТК \"Сенная\"</td>\n",
       "      <td>43</td>\n",
       "    </tr>\n",
       "    <tr>\n",
       "      <th>44</th>\n",
       "      <td>Самара ТЦ \"Мелодия\"</td>\n",
       "      <td>44</td>\n",
       "    </tr>\n",
       "    <tr>\n",
       "      <th>45</th>\n",
       "      <td>Самара ТЦ \"ПаркХаус\"</td>\n",
       "      <td>45</td>\n",
       "    </tr>\n",
       "    <tr>\n",
       "      <th>46</th>\n",
       "      <td>Сергиев Посад ТЦ \"7Я\"</td>\n",
       "      <td>46</td>\n",
       "    </tr>\n",
       "    <tr>\n",
       "      <th>47</th>\n",
       "      <td>Сургут ТРЦ \"Сити Молл\"</td>\n",
       "      <td>47</td>\n",
       "    </tr>\n",
       "    <tr>\n",
       "      <th>48</th>\n",
       "      <td>Томск ТРЦ \"Изумрудный Город\"</td>\n",
       "      <td>48</td>\n",
       "    </tr>\n",
       "    <tr>\n",
       "      <th>49</th>\n",
       "      <td>Тюмень ТРЦ \"Кристалл\"</td>\n",
       "      <td>49</td>\n",
       "    </tr>\n",
       "    <tr>\n",
       "      <th>50</th>\n",
       "      <td>Тюмень ТЦ \"Гудвин\"</td>\n",
       "      <td>50</td>\n",
       "    </tr>\n",
       "    <tr>\n",
       "      <th>51</th>\n",
       "      <td>Тюмень ТЦ \"Зеленый Берег\"</td>\n",
       "      <td>51</td>\n",
       "    </tr>\n",
       "    <tr>\n",
       "      <th>52</th>\n",
       "      <td>Уфа ТК \"Центральный\"</td>\n",
       "      <td>52</td>\n",
       "    </tr>\n",
       "    <tr>\n",
       "      <th>53</th>\n",
       "      <td>Уфа ТЦ \"Семья\" 2</td>\n",
       "      <td>53</td>\n",
       "    </tr>\n",
       "    <tr>\n",
       "      <th>54</th>\n",
       "      <td>Химки ТЦ \"Мега\"</td>\n",
       "      <td>54</td>\n",
       "    </tr>\n",
       "    <tr>\n",
       "      <th>55</th>\n",
       "      <td>Цифровой склад 1С-Онлайн</td>\n",
       "      <td>55</td>\n",
       "    </tr>\n",
       "    <tr>\n",
       "      <th>56</th>\n",
       "      <td>Чехов ТРЦ \"Карнавал\"</td>\n",
       "      <td>56</td>\n",
       "    </tr>\n",
       "    <tr>\n",
       "      <th>57</th>\n",
       "      <td>Якутск Орджоникидзе, 56</td>\n",
       "      <td>57</td>\n",
       "    </tr>\n",
       "    <tr>\n",
       "      <th>58</th>\n",
       "      <td>Якутск ТЦ \"Центральный\"</td>\n",
       "      <td>58</td>\n",
       "    </tr>\n",
       "    <tr>\n",
       "      <th>59</th>\n",
       "      <td>Ярославль ТЦ \"Альтаир\"</td>\n",
       "      <td>59</td>\n",
       "    </tr>\n",
       "  </tbody>\n",
       "</table>\n",
       "</div>"
      ],
      "text/plain": [
       "                                          shop_name  shop_id\n",
       "0                     !Якутск Орджоникидзе, 56 фран        0\n",
       "1                     !Якутск ТЦ \"Центральный\" фран        1\n",
       "2                                  Адыгея ТЦ \"Мега\"        2\n",
       "3                    Балашиха ТРК \"Октябрь-Киномир\"        3\n",
       "4                          Волжский ТЦ \"Волга Молл\"        4\n",
       "5                            Вологда ТРЦ \"Мармелад\"        5\n",
       "6                        Воронеж (Плехановская, 13)        6\n",
       "7                            Воронеж ТРЦ \"Максимир\"        7\n",
       "8                      Воронеж ТРЦ Сити-Парк \"Град\"        8\n",
       "9                                 Выездная Торговля        9\n",
       "10                       Жуковский ул. Чкалова 39м?       10\n",
       "11                       Жуковский ул. Чкалова 39м²       11\n",
       "12                              Интернет-магазин ЧС       12\n",
       "13                              Казань ТЦ \"Бехетле\"       13\n",
       "14                          Казань ТЦ \"ПаркХаус\" II       14\n",
       "15                             Калуга ТРЦ \"XXI век\"       15\n",
       "16                                 Коломна ТЦ \"Рио\"       16\n",
       "17                    Красноярск ТЦ \"Взлетка Плаза\"       17\n",
       "18                             Красноярск ТЦ \"Июнь\"       18\n",
       "19                            Курск ТЦ \"Пушкинский\"       19\n",
       "20                              Москва \"Распродажа\"       20\n",
       "21                           Москва МТРЦ \"Афи Молл\"       21\n",
       "22                               Москва Магазин С21       22\n",
       "23                 Москва ТК \"Буденовский\" (пав.А2)       23\n",
       "24                 Москва ТК \"Буденовский\" (пав.К7)       24\n",
       "25                              Москва ТРК \"Атриум\"       25\n",
       "26                      Москва ТЦ \"Ареал\" (Беляево)       26\n",
       "27                   Москва ТЦ \"МЕГА Белая Дача II\"       27\n",
       "28                  Москва ТЦ \"МЕГА Теплый Стан\" II       28\n",
       "29               Москва ТЦ \"Новый век\" (Новокосино)       29\n",
       "30                           Москва ТЦ \"Перловский\"       30\n",
       "31                          Москва ТЦ \"Семеновский\"       31\n",
       "32                       Москва ТЦ \"Серебряный Дом\"       32\n",
       "33                                Мытищи ТРК \"XL-3\"       33\n",
       "34                             Н.Новгород ТРЦ \"РИО\"       34\n",
       "35                      Н.Новгород ТРЦ \"Фантастика\"       35\n",
       "36            Новосибирск ТРЦ \"Галерея Новосибирск\"       36\n",
       "37                            Новосибирск ТЦ \"Мега\"       37\n",
       "38                                   Омск ТЦ \"Мега\"       38\n",
       "39            РостовНаДону ТРК \"Мегацентр Горизонт\"       39\n",
       "40  РостовНаДону ТРК \"Мегацентр Горизонт\" Островной       40\n",
       "41                           РостовНаДону ТЦ \"Мега\"       41\n",
       "42                           СПб ТК \"Невский Центр\"       42\n",
       "43                                  СПб ТК \"Сенная\"       43\n",
       "44                              Самара ТЦ \"Мелодия\"       44\n",
       "45                             Самара ТЦ \"ПаркХаус\"       45\n",
       "46                            Сергиев Посад ТЦ \"7Я\"       46\n",
       "47                           Сургут ТРЦ \"Сити Молл\"       47\n",
       "48                     Томск ТРЦ \"Изумрудный Город\"       48\n",
       "49                            Тюмень ТРЦ \"Кристалл\"       49\n",
       "50                               Тюмень ТЦ \"Гудвин\"       50\n",
       "51                        Тюмень ТЦ \"Зеленый Берег\"       51\n",
       "52                             Уфа ТК \"Центральный\"       52\n",
       "53                                 Уфа ТЦ \"Семья\" 2       53\n",
       "54                                  Химки ТЦ \"Мега\"       54\n",
       "55                         Цифровой склад 1С-Онлайн       55\n",
       "56                             Чехов ТРЦ \"Карнавал\"       56\n",
       "57                          Якутск Орджоникидзе, 56       57\n",
       "58                          Якутск ТЦ \"Центральный\"       58\n",
       "59                           Ярославль ТЦ \"Альтаир\"       59"
      ]
     },
     "execution_count": 12,
     "metadata": {},
     "output_type": "execute_result"
    }
   ],
   "source": [
    "df_shops"
   ]
  },
  {
   "cell_type": "code",
   "execution_count": 13,
   "id": "dfa0e9ec",
   "metadata": {
    "execution": {
     "iopub.execute_input": "2025-01-11T11:55:13.247803Z",
     "iopub.status.busy": "2025-01-11T11:55:13.247383Z",
     "iopub.status.idle": "2025-01-11T11:55:13.362718Z",
     "shell.execute_reply": "2025-01-11T11:55:13.361735Z"
    },
    "papermill": {
     "duration": 0.130457,
     "end_time": "2025-01-11T11:55:13.364890",
     "exception": false,
     "start_time": "2025-01-11T11:55:13.234433",
     "status": "completed"
    },
    "tags": []
   },
   "outputs": [],
   "source": [
    "df_test=pd.read_csv('/kaggle/input/competitive-data-science-predict-future-sales/test.csv')"
   ]
  },
  {
   "cell_type": "code",
   "execution_count": 14,
   "id": "0c9b98ca",
   "metadata": {
    "execution": {
     "iopub.execute_input": "2025-01-11T11:55:13.390545Z",
     "iopub.status.busy": "2025-01-11T11:55:13.390162Z",
     "iopub.status.idle": "2025-01-11T11:55:13.400052Z",
     "shell.execute_reply": "2025-01-11T11:55:13.398953Z"
    },
    "papermill": {
     "duration": 0.024642,
     "end_time": "2025-01-11T11:55:13.401931",
     "exception": false,
     "start_time": "2025-01-11T11:55:13.377289",
     "status": "completed"
    },
    "tags": []
   },
   "outputs": [
    {
     "data": {
      "text/html": [
       "<div>\n",
       "<style scoped>\n",
       "    .dataframe tbody tr th:only-of-type {\n",
       "        vertical-align: middle;\n",
       "    }\n",
       "\n",
       "    .dataframe tbody tr th {\n",
       "        vertical-align: top;\n",
       "    }\n",
       "\n",
       "    .dataframe thead th {\n",
       "        text-align: right;\n",
       "    }\n",
       "</style>\n",
       "<table border=\"1\" class=\"dataframe\">\n",
       "  <thead>\n",
       "    <tr style=\"text-align: right;\">\n",
       "      <th></th>\n",
       "      <th>ID</th>\n",
       "      <th>shop_id</th>\n",
       "      <th>item_id</th>\n",
       "    </tr>\n",
       "  </thead>\n",
       "  <tbody>\n",
       "    <tr>\n",
       "      <th>0</th>\n",
       "      <td>0</td>\n",
       "      <td>5</td>\n",
       "      <td>5037</td>\n",
       "    </tr>\n",
       "    <tr>\n",
       "      <th>1</th>\n",
       "      <td>1</td>\n",
       "      <td>5</td>\n",
       "      <td>5320</td>\n",
       "    </tr>\n",
       "    <tr>\n",
       "      <th>2</th>\n",
       "      <td>2</td>\n",
       "      <td>5</td>\n",
       "      <td>5233</td>\n",
       "    </tr>\n",
       "    <tr>\n",
       "      <th>3</th>\n",
       "      <td>3</td>\n",
       "      <td>5</td>\n",
       "      <td>5232</td>\n",
       "    </tr>\n",
       "    <tr>\n",
       "      <th>4</th>\n",
       "      <td>4</td>\n",
       "      <td>5</td>\n",
       "      <td>5268</td>\n",
       "    </tr>\n",
       "    <tr>\n",
       "      <th>...</th>\n",
       "      <td>...</td>\n",
       "      <td>...</td>\n",
       "      <td>...</td>\n",
       "    </tr>\n",
       "    <tr>\n",
       "      <th>214195</th>\n",
       "      <td>214195</td>\n",
       "      <td>45</td>\n",
       "      <td>18454</td>\n",
       "    </tr>\n",
       "    <tr>\n",
       "      <th>214196</th>\n",
       "      <td>214196</td>\n",
       "      <td>45</td>\n",
       "      <td>16188</td>\n",
       "    </tr>\n",
       "    <tr>\n",
       "      <th>214197</th>\n",
       "      <td>214197</td>\n",
       "      <td>45</td>\n",
       "      <td>15757</td>\n",
       "    </tr>\n",
       "    <tr>\n",
       "      <th>214198</th>\n",
       "      <td>214198</td>\n",
       "      <td>45</td>\n",
       "      <td>19648</td>\n",
       "    </tr>\n",
       "    <tr>\n",
       "      <th>214199</th>\n",
       "      <td>214199</td>\n",
       "      <td>45</td>\n",
       "      <td>969</td>\n",
       "    </tr>\n",
       "  </tbody>\n",
       "</table>\n",
       "<p>214200 rows × 3 columns</p>\n",
       "</div>"
      ],
      "text/plain": [
       "            ID  shop_id  item_id\n",
       "0            0        5     5037\n",
       "1            1        5     5320\n",
       "2            2        5     5233\n",
       "3            3        5     5232\n",
       "4            4        5     5268\n",
       "...        ...      ...      ...\n",
       "214195  214195       45    18454\n",
       "214196  214196       45    16188\n",
       "214197  214197       45    15757\n",
       "214198  214198       45    19648\n",
       "214199  214199       45      969\n",
       "\n",
       "[214200 rows x 3 columns]"
      ]
     },
     "execution_count": 14,
     "metadata": {},
     "output_type": "execute_result"
    }
   ],
   "source": [
    "df_test"
   ]
  },
  {
   "cell_type": "code",
   "execution_count": 15,
   "id": "90ded2e5",
   "metadata": {
    "execution": {
     "iopub.execute_input": "2025-01-11T11:55:13.428153Z",
     "iopub.status.busy": "2025-01-11T11:55:13.427823Z",
     "iopub.status.idle": "2025-01-11T11:55:13.438400Z",
     "shell.execute_reply": "2025-01-11T11:55:13.437261Z"
    },
    "papermill": {
     "duration": 0.025624,
     "end_time": "2025-01-11T11:55:13.440215",
     "exception": false,
     "start_time": "2025-01-11T11:55:13.414591",
     "status": "completed"
    },
    "tags": []
   },
   "outputs": [
    {
     "data": {
      "text/plain": [
       "0"
      ]
     },
     "execution_count": 15,
     "metadata": {},
     "output_type": "execute_result"
    }
   ],
   "source": [
    "# now we should check for NaNs in data \n",
    "df_items.isnull().sum().sum()"
   ]
  },
  {
   "cell_type": "code",
   "execution_count": 16,
   "id": "7b9979f5",
   "metadata": {
    "execution": {
     "iopub.execute_input": "2025-01-11T11:55:13.466134Z",
     "iopub.status.busy": "2025-01-11T11:55:13.465794Z",
     "iopub.status.idle": "2025-01-11T11:55:13.474877Z",
     "shell.execute_reply": "2025-01-11T11:55:13.473788Z"
    },
    "papermill": {
     "duration": 0.023788,
     "end_time": "2025-01-11T11:55:13.476449",
     "exception": false,
     "start_time": "2025-01-11T11:55:13.452661",
     "status": "completed"
    },
    "tags": []
   },
   "outputs": [
    {
     "data": {
      "text/plain": [
       "item_name           22170\n",
       "item_id             22170\n",
       "item_category_id    22170\n",
       "dtype: int64"
      ]
     },
     "execution_count": 16,
     "metadata": {},
     "output_type": "execute_result"
    }
   ],
   "source": [
    "df_items.notna().sum()"
   ]
  },
  {
   "cell_type": "code",
   "execution_count": 17,
   "id": "33959e74",
   "metadata": {
    "execution": {
     "iopub.execute_input": "2025-01-11T11:55:13.502443Z",
     "iopub.status.busy": "2025-01-11T11:55:13.502085Z",
     "iopub.status.idle": "2025-01-11T11:55:13.518721Z",
     "shell.execute_reply": "2025-01-11T11:55:13.517747Z"
    },
    "papermill": {
     "duration": 0.031299,
     "end_time": "2025-01-11T11:55:13.520161",
     "exception": false,
     "start_time": "2025-01-11T11:55:13.488862",
     "status": "completed"
    },
    "tags": []
   },
   "outputs": [
    {
     "data": {
      "text/html": [
       "<div>\n",
       "<style scoped>\n",
       "    .dataframe tbody tr th:only-of-type {\n",
       "        vertical-align: middle;\n",
       "    }\n",
       "\n",
       "    .dataframe tbody tr th {\n",
       "        vertical-align: top;\n",
       "    }\n",
       "\n",
       "    .dataframe thead th {\n",
       "        text-align: right;\n",
       "    }\n",
       "</style>\n",
       "<table border=\"1\" class=\"dataframe\">\n",
       "  <thead>\n",
       "    <tr style=\"text-align: right;\">\n",
       "      <th></th>\n",
       "      <th>item_id</th>\n",
       "      <th>item_category_id</th>\n",
       "    </tr>\n",
       "  </thead>\n",
       "  <tbody>\n",
       "    <tr>\n",
       "      <th>count</th>\n",
       "      <td>22170.00000</td>\n",
       "      <td>22170.000000</td>\n",
       "    </tr>\n",
       "    <tr>\n",
       "      <th>mean</th>\n",
       "      <td>11084.50000</td>\n",
       "      <td>46.290753</td>\n",
       "    </tr>\n",
       "    <tr>\n",
       "      <th>std</th>\n",
       "      <td>6400.07207</td>\n",
       "      <td>15.941486</td>\n",
       "    </tr>\n",
       "    <tr>\n",
       "      <th>min</th>\n",
       "      <td>0.00000</td>\n",
       "      <td>0.000000</td>\n",
       "    </tr>\n",
       "    <tr>\n",
       "      <th>25%</th>\n",
       "      <td>5542.25000</td>\n",
       "      <td>37.000000</td>\n",
       "    </tr>\n",
       "    <tr>\n",
       "      <th>50%</th>\n",
       "      <td>11084.50000</td>\n",
       "      <td>40.000000</td>\n",
       "    </tr>\n",
       "    <tr>\n",
       "      <th>75%</th>\n",
       "      <td>16626.75000</td>\n",
       "      <td>58.000000</td>\n",
       "    </tr>\n",
       "    <tr>\n",
       "      <th>max</th>\n",
       "      <td>22169.00000</td>\n",
       "      <td>83.000000</td>\n",
       "    </tr>\n",
       "  </tbody>\n",
       "</table>\n",
       "</div>"
      ],
      "text/plain": [
       "           item_id  item_category_id\n",
       "count  22170.00000      22170.000000\n",
       "mean   11084.50000         46.290753\n",
       "std     6400.07207         15.941486\n",
       "min        0.00000          0.000000\n",
       "25%     5542.25000         37.000000\n",
       "50%    11084.50000         40.000000\n",
       "75%    16626.75000         58.000000\n",
       "max    22169.00000         83.000000"
      ]
     },
     "execution_count": 17,
     "metadata": {},
     "output_type": "execute_result"
    }
   ],
   "source": [
    "df_items.describe()"
   ]
  },
  {
   "cell_type": "markdown",
   "id": "70d04f1d",
   "metadata": {
    "papermill": {
     "duration": 0.012396,
     "end_time": "2025-01-11T11:55:13.544905",
     "exception": false,
     "start_time": "2025-01-11T11:55:13.532509",
     "status": "completed"
    },
    "tags": []
   },
   "source": [
    "#So we can find that there is no NA value in the data set of df_items  and ansd item category . Thi will help us to omit the data preprocessing for our system files\n"
   ]
  },
  {
   "cell_type": "code",
   "execution_count": 18,
   "id": "73bd136e",
   "metadata": {
    "execution": {
     "iopub.execute_input": "2025-01-11T11:55:13.570855Z",
     "iopub.status.busy": "2025-01-11T11:55:13.570420Z",
     "iopub.status.idle": "2025-01-11T11:55:13.577291Z",
     "shell.execute_reply": "2025-01-11T11:55:13.576449Z"
    },
    "papermill": {
     "duration": 0.021621,
     "end_time": "2025-01-11T11:55:13.578759",
     "exception": false,
     "start_time": "2025-01-11T11:55:13.557138",
     "status": "completed"
    },
    "tags": []
   },
   "outputs": [
    {
     "data": {
      "text/plain": [
       "shop_name    0\n",
       "shop_id      0\n",
       "dtype: int64"
      ]
     },
     "execution_count": 18,
     "metadata": {},
     "output_type": "execute_result"
    }
   ],
   "source": [
    "df_shops.isna().sum()# no nan are  in shops item category aand items "
   ]
  },
  {
   "cell_type": "code",
   "execution_count": 19,
   "id": "6807c2d0",
   "metadata": {
    "execution": {
     "iopub.execute_input": "2025-01-11T11:55:13.604660Z",
     "iopub.status.busy": "2025-01-11T11:55:13.604283Z",
     "iopub.status.idle": "2025-01-11T11:55:13.610939Z",
     "shell.execute_reply": "2025-01-11T11:55:13.610124Z"
    },
    "papermill": {
     "duration": 0.02122,
     "end_time": "2025-01-11T11:55:13.612410",
     "exception": false,
     "start_time": "2025-01-11T11:55:13.591190",
     "status": "completed"
    },
    "tags": []
   },
   "outputs": [
    {
     "data": {
      "text/plain": [
       "shop_name    60\n",
       "shop_id      60\n",
       "dtype: int64"
      ]
     },
     "execution_count": 19,
     "metadata": {},
     "output_type": "execute_result"
    }
   ],
   "source": [
    "df_shops.notna().sum()"
   ]
  },
  {
   "cell_type": "code",
   "execution_count": 20,
   "id": "c0a84236",
   "metadata": {
    "execution": {
     "iopub.execute_input": "2025-01-11T11:55:13.638496Z",
     "iopub.status.busy": "2025-01-11T11:55:13.638144Z",
     "iopub.status.idle": "2025-01-11T11:55:13.642432Z",
     "shell.execute_reply": "2025-01-11T11:55:13.641469Z"
    },
    "papermill": {
     "duration": 0.019147,
     "end_time": "2025-01-11T11:55:13.644122",
     "exception": false,
     "start_time": "2025-01-11T11:55:13.624975",
     "status": "completed"
    },
    "tags": []
   },
   "outputs": [],
   "source": [
    "df_shops_re=df_shops.iloc[:,1]"
   ]
  },
  {
   "cell_type": "code",
   "execution_count": 21,
   "id": "54027854",
   "metadata": {
    "execution": {
     "iopub.execute_input": "2025-01-11T11:55:13.670976Z",
     "iopub.status.busy": "2025-01-11T11:55:13.670586Z",
     "iopub.status.idle": "2025-01-11T11:55:13.676774Z",
     "shell.execute_reply": "2025-01-11T11:55:13.675955Z"
    },
    "papermill": {
     "duration": 0.021226,
     "end_time": "2025-01-11T11:55:13.678193",
     "exception": false,
     "start_time": "2025-01-11T11:55:13.656967",
     "status": "completed"
    },
    "tags": []
   },
   "outputs": [
    {
     "data": {
      "text/plain": [
       "0      0\n",
       "1      1\n",
       "2      2\n",
       "3      3\n",
       "4      4\n",
       "5      5\n",
       "6      6\n",
       "7      7\n",
       "8      8\n",
       "9      9\n",
       "10    10\n",
       "11    11\n",
       "12    12\n",
       "13    13\n",
       "14    14\n",
       "15    15\n",
       "16    16\n",
       "17    17\n",
       "18    18\n",
       "19    19\n",
       "20    20\n",
       "21    21\n",
       "22    22\n",
       "23    23\n",
       "24    24\n",
       "25    25\n",
       "26    26\n",
       "27    27\n",
       "28    28\n",
       "29    29\n",
       "30    30\n",
       "31    31\n",
       "32    32\n",
       "33    33\n",
       "34    34\n",
       "35    35\n",
       "36    36\n",
       "37    37\n",
       "38    38\n",
       "39    39\n",
       "40    40\n",
       "41    41\n",
       "42    42\n",
       "43    43\n",
       "44    44\n",
       "45    45\n",
       "46    46\n",
       "47    47\n",
       "48    48\n",
       "49    49\n",
       "50    50\n",
       "51    51\n",
       "52    52\n",
       "53    53\n",
       "54    54\n",
       "55    55\n",
       "56    56\n",
       "57    57\n",
       "58    58\n",
       "59    59\n",
       "Name: shop_id, dtype: int64"
      ]
     },
     "execution_count": 21,
     "metadata": {},
     "output_type": "execute_result"
    }
   ],
   "source": [
    "df_shops_re"
   ]
  },
  {
   "cell_type": "code",
   "execution_count": 22,
   "id": "d158a967",
   "metadata": {
    "execution": {
     "iopub.execute_input": "2025-01-11T11:55:13.704710Z",
     "iopub.status.busy": "2025-01-11T11:55:13.704339Z",
     "iopub.status.idle": "2025-01-11T11:55:13.748298Z",
     "shell.execute_reply": "2025-01-11T11:55:13.747230Z"
    },
    "papermill": {
     "duration": 0.059494,
     "end_time": "2025-01-11T11:55:13.750275",
     "exception": false,
     "start_time": "2025-01-11T11:55:13.690781",
     "status": "completed"
    },
    "tags": []
   },
   "outputs": [],
   "source": [
    "df_sales1=df_sales_train.iloc[:,[2,3,4,5]]"
   ]
  },
  {
   "cell_type": "code",
   "execution_count": 23,
   "id": "2cdcdad9",
   "metadata": {
    "execution": {
     "iopub.execute_input": "2025-01-11T11:55:13.777360Z",
     "iopub.status.busy": "2025-01-11T11:55:13.777019Z",
     "iopub.status.idle": "2025-01-11T11:55:13.788635Z",
     "shell.execute_reply": "2025-01-11T11:55:13.787572Z"
    },
    "papermill": {
     "duration": 0.026739,
     "end_time": "2025-01-11T11:55:13.790142",
     "exception": false,
     "start_time": "2025-01-11T11:55:13.763403",
     "status": "completed"
    },
    "tags": []
   },
   "outputs": [
    {
     "data": {
      "text/html": [
       "<div>\n",
       "<style scoped>\n",
       "    .dataframe tbody tr th:only-of-type {\n",
       "        vertical-align: middle;\n",
       "    }\n",
       "\n",
       "    .dataframe tbody tr th {\n",
       "        vertical-align: top;\n",
       "    }\n",
       "\n",
       "    .dataframe thead th {\n",
       "        text-align: right;\n",
       "    }\n",
       "</style>\n",
       "<table border=\"1\" class=\"dataframe\">\n",
       "  <thead>\n",
       "    <tr style=\"text-align: right;\">\n",
       "      <th></th>\n",
       "      <th>shop_id</th>\n",
       "      <th>item_id</th>\n",
       "      <th>item_price</th>\n",
       "      <th>item_cnt_day</th>\n",
       "    </tr>\n",
       "  </thead>\n",
       "  <tbody>\n",
       "    <tr>\n",
       "      <th>0</th>\n",
       "      <td>59</td>\n",
       "      <td>22154</td>\n",
       "      <td>999.00</td>\n",
       "      <td>1.0</td>\n",
       "    </tr>\n",
       "    <tr>\n",
       "      <th>1</th>\n",
       "      <td>25</td>\n",
       "      <td>2552</td>\n",
       "      <td>899.00</td>\n",
       "      <td>1.0</td>\n",
       "    </tr>\n",
       "    <tr>\n",
       "      <th>2</th>\n",
       "      <td>25</td>\n",
       "      <td>2552</td>\n",
       "      <td>899.00</td>\n",
       "      <td>-1.0</td>\n",
       "    </tr>\n",
       "    <tr>\n",
       "      <th>3</th>\n",
       "      <td>25</td>\n",
       "      <td>2554</td>\n",
       "      <td>1709.05</td>\n",
       "      <td>1.0</td>\n",
       "    </tr>\n",
       "    <tr>\n",
       "      <th>4</th>\n",
       "      <td>25</td>\n",
       "      <td>2555</td>\n",
       "      <td>1099.00</td>\n",
       "      <td>1.0</td>\n",
       "    </tr>\n",
       "    <tr>\n",
       "      <th>...</th>\n",
       "      <td>...</td>\n",
       "      <td>...</td>\n",
       "      <td>...</td>\n",
       "      <td>...</td>\n",
       "    </tr>\n",
       "    <tr>\n",
       "      <th>2935844</th>\n",
       "      <td>25</td>\n",
       "      <td>7409</td>\n",
       "      <td>299.00</td>\n",
       "      <td>1.0</td>\n",
       "    </tr>\n",
       "    <tr>\n",
       "      <th>2935845</th>\n",
       "      <td>25</td>\n",
       "      <td>7460</td>\n",
       "      <td>299.00</td>\n",
       "      <td>1.0</td>\n",
       "    </tr>\n",
       "    <tr>\n",
       "      <th>2935846</th>\n",
       "      <td>25</td>\n",
       "      <td>7459</td>\n",
       "      <td>349.00</td>\n",
       "      <td>1.0</td>\n",
       "    </tr>\n",
       "    <tr>\n",
       "      <th>2935847</th>\n",
       "      <td>25</td>\n",
       "      <td>7440</td>\n",
       "      <td>299.00</td>\n",
       "      <td>1.0</td>\n",
       "    </tr>\n",
       "    <tr>\n",
       "      <th>2935848</th>\n",
       "      <td>25</td>\n",
       "      <td>7460</td>\n",
       "      <td>299.00</td>\n",
       "      <td>1.0</td>\n",
       "    </tr>\n",
       "  </tbody>\n",
       "</table>\n",
       "<p>2935849 rows × 4 columns</p>\n",
       "</div>"
      ],
      "text/plain": [
       "         shop_id  item_id  item_price  item_cnt_day\n",
       "0             59    22154      999.00           1.0\n",
       "1             25     2552      899.00           1.0\n",
       "2             25     2552      899.00          -1.0\n",
       "3             25     2554     1709.05           1.0\n",
       "4             25     2555     1099.00           1.0\n",
       "...          ...      ...         ...           ...\n",
       "2935844       25     7409      299.00           1.0\n",
       "2935845       25     7460      299.00           1.0\n",
       "2935846       25     7459      349.00           1.0\n",
       "2935847       25     7440      299.00           1.0\n",
       "2935848       25     7460      299.00           1.0\n",
       "\n",
       "[2935849 rows x 4 columns]"
      ]
     },
     "execution_count": 23,
     "metadata": {},
     "output_type": "execute_result"
    }
   ],
   "source": [
    "df_sales1"
   ]
  },
  {
   "cell_type": "code",
   "execution_count": 24,
   "id": "b6711a32",
   "metadata": {
    "execution": {
     "iopub.execute_input": "2025-01-11T11:55:13.817390Z",
     "iopub.status.busy": "2025-01-11T11:55:13.817042Z",
     "iopub.status.idle": "2025-01-11T11:55:13.838284Z",
     "shell.execute_reply": "2025-01-11T11:55:13.837259Z"
    },
    "papermill": {
     "duration": 0.036649,
     "end_time": "2025-01-11T11:55:13.839956",
     "exception": false,
     "start_time": "2025-01-11T11:55:13.803307",
     "status": "completed"
    },
    "tags": []
   },
   "outputs": [
    {
     "data": {
      "text/plain": [
       "shop_id         0\n",
       "item_id         0\n",
       "item_price      0\n",
       "item_cnt_day    0\n",
       "dtype: int64"
      ]
     },
     "execution_count": 24,
     "metadata": {},
     "output_type": "execute_result"
    }
   ],
   "source": [
    "df_sales1.isna().sum()"
   ]
  },
  {
   "cell_type": "code",
   "execution_count": 25,
   "id": "65adb0f5",
   "metadata": {
    "execution": {
     "iopub.execute_input": "2025-01-11T11:55:13.867325Z",
     "iopub.status.busy": "2025-01-11T11:55:13.866999Z",
     "iopub.status.idle": "2025-01-11T11:55:13.879057Z",
     "shell.execute_reply": "2025-01-11T11:55:13.877929Z"
    },
    "papermill": {
     "duration": 0.027625,
     "end_time": "2025-01-11T11:55:13.880691",
     "exception": false,
     "start_time": "2025-01-11T11:55:13.853066",
     "status": "completed"
    },
    "tags": []
   },
   "outputs": [
    {
     "data": {
      "text/plain": [
       "7356"
      ]
     },
     "execution_count": 25,
     "metadata": {},
     "output_type": "execute_result"
    }
   ],
   "source": [
    "(df_sales1.item_cnt_day<0).sum()# we can say that around 7356 nof of cells have <0 values"
   ]
  },
  {
   "cell_type": "code",
   "execution_count": 26,
   "id": "701934b6",
   "metadata": {
    "execution": {
     "iopub.execute_input": "2025-01-11T11:55:13.908546Z",
     "iopub.status.busy": "2025-01-11T11:55:13.908101Z",
     "iopub.status.idle": "2025-01-11T11:55:13.919944Z",
     "shell.execute_reply": "2025-01-11T11:55:13.918770Z"
    },
    "papermill": {
     "duration": 0.027812,
     "end_time": "2025-01-11T11:55:13.921891",
     "exception": false,
     "start_time": "2025-01-11T11:55:13.894079",
     "status": "completed"
    },
    "tags": []
   },
   "outputs": [
    {
     "data": {
      "text/plain": [
       "1"
      ]
     },
     "execution_count": 26,
     "metadata": {},
     "output_type": "execute_result"
    }
   ],
   "source": [
    "(df_sales1.item_price<0).sum()# we can see that out of all the prices one cell has negative value as price which is  not realistic need to be replaced "
   ]
  },
  {
   "cell_type": "code",
   "execution_count": 27,
   "id": "511fcedc",
   "metadata": {
    "execution": {
     "iopub.execute_input": "2025-01-11T11:55:13.950525Z",
     "iopub.status.busy": "2025-01-11T11:55:13.950148Z",
     "iopub.status.idle": "2025-01-11T11:55:13.960869Z",
     "shell.execute_reply": "2025-01-11T11:55:13.959564Z"
    },
    "papermill": {
     "duration": 0.02694,
     "end_time": "2025-01-11T11:55:13.962687",
     "exception": false,
     "start_time": "2025-01-11T11:55:13.935747",
     "status": "completed"
    },
    "tags": []
   },
   "outputs": [
    {
     "name": "stderr",
     "output_type": "stream",
     "text": [
      "<ipython-input-27-265bc8d7336d>:1: SettingWithCopyWarning: \n",
      "A value is trying to be set on a copy of a slice from a DataFrame.\n",
      "Try using .loc[row_indexer,col_indexer] = value instead\n",
      "\n",
      "See the caveats in the documentation: https://pandas.pydata.org/pandas-docs/stable/user_guide/indexing.html#returning-a-view-versus-a-copy\n",
      "  df_sales1[df_sales1.item_price<0]=0\n"
     ]
    }
   ],
   "source": [
    "df_sales1[df_sales1.item_price<0]=0"
   ]
  },
  {
   "cell_type": "code",
   "execution_count": 28,
   "id": "fb30917c",
   "metadata": {
    "execution": {
     "iopub.execute_input": "2025-01-11T11:55:13.991229Z",
     "iopub.status.busy": "2025-01-11T11:55:13.990893Z",
     "iopub.status.idle": "2025-01-11T11:55:14.003169Z",
     "shell.execute_reply": "2025-01-11T11:55:14.001996Z"
    },
    "papermill": {
     "duration": 0.028644,
     "end_time": "2025-01-11T11:55:14.005195",
     "exception": false,
     "start_time": "2025-01-11T11:55:13.976551",
     "status": "completed"
    },
    "tags": []
   },
   "outputs": [
    {
     "data": {
      "text/plain": [
       "0"
      ]
     },
     "execution_count": 28,
     "metadata": {},
     "output_type": "execute_result"
    }
   ],
   "source": [
    "(df_sales1.item_price<0).sum()# we have already concludede that all the columns have been filled with 0 where  the item price<0\n"
   ]
  },
  {
   "cell_type": "code",
   "execution_count": 29,
   "id": "9f7d7a85",
   "metadata": {
    "execution": {
     "iopub.execute_input": "2025-01-11T11:55:14.034121Z",
     "iopub.status.busy": "2025-01-11T11:55:14.033728Z",
     "iopub.status.idle": "2025-01-11T11:55:14.044710Z",
     "shell.execute_reply": "2025-01-11T11:55:14.043398Z"
    },
    "papermill": {
     "duration": 0.027503,
     "end_time": "2025-01-11T11:55:14.046538",
     "exception": false,
     "start_time": "2025-01-11T11:55:14.019035",
     "status": "completed"
    },
    "tags": []
   },
   "outputs": [
    {
     "name": "stderr",
     "output_type": "stream",
     "text": [
      "<ipython-input-29-66a2e3d64e6c>:1: SettingWithCopyWarning: \n",
      "A value is trying to be set on a copy of a slice from a DataFrame.\n",
      "Try using .loc[row_indexer,col_indexer] = value instead\n",
      "\n",
      "See the caveats in the documentation: https://pandas.pydata.org/pandas-docs/stable/user_guide/indexing.html#returning-a-view-versus-a-copy\n",
      "  df_sales1[df_sales1.item_cnt_day<0]=0\n"
     ]
    }
   ],
   "source": [
    "df_sales1[df_sales1.item_cnt_day<0]=0"
   ]
  },
  {
   "cell_type": "code",
   "execution_count": 30,
   "id": "8c94d7a3",
   "metadata": {
    "execution": {
     "iopub.execute_input": "2025-01-11T11:55:14.075288Z",
     "iopub.status.busy": "2025-01-11T11:55:14.074955Z",
     "iopub.status.idle": "2025-01-11T11:55:14.086303Z",
     "shell.execute_reply": "2025-01-11T11:55:14.085299Z"
    },
    "papermill": {
     "duration": 0.027815,
     "end_time": "2025-01-11T11:55:14.087990",
     "exception": false,
     "start_time": "2025-01-11T11:55:14.060175",
     "status": "completed"
    },
    "tags": []
   },
   "outputs": [
    {
     "data": {
      "text/plain": [
       "0"
      ]
     },
     "execution_count": 30,
     "metadata": {},
     "output_type": "execute_result"
    }
   ],
   "source": [
    "(df_sales1.item_cnt_day<0).sum()"
   ]
  },
  {
   "cell_type": "code",
   "execution_count": 31,
   "id": "b62d3f08",
   "metadata": {
    "execution": {
     "iopub.execute_input": "2025-01-11T11:55:14.116392Z",
     "iopub.status.busy": "2025-01-11T11:55:14.116022Z",
     "iopub.status.idle": "2025-01-11T11:55:14.124072Z",
     "shell.execute_reply": "2025-01-11T11:55:14.122896Z"
    },
    "papermill": {
     "duration": 0.024421,
     "end_time": "2025-01-11T11:55:14.126054",
     "exception": false,
     "start_time": "2025-01-11T11:55:14.101633",
     "status": "completed"
    },
    "tags": []
   },
   "outputs": [
    {
     "data": {
      "text/plain": [
       "0          1.0\n",
       "1          1.0\n",
       "2          0.0\n",
       "3          1.0\n",
       "4          1.0\n",
       "          ... \n",
       "2935844    1.0\n",
       "2935845    1.0\n",
       "2935846    1.0\n",
       "2935847    1.0\n",
       "2935848    1.0\n",
       "Name: item_cnt_day, Length: 2935849, dtype: float64"
      ]
     },
     "execution_count": 31,
     "metadata": {},
     "output_type": "execute_result"
    }
   ],
   "source": [
    "df_sales1.item_cnt_day# we have cleared all the negative values with 0."
   ]
  },
  {
   "cell_type": "code",
   "execution_count": 32,
   "id": "188b9b88",
   "metadata": {
    "execution": {
     "iopub.execute_input": "2025-01-11T11:55:14.155776Z",
     "iopub.status.busy": "2025-01-11T11:55:14.155377Z",
     "iopub.status.idle": "2025-01-11T11:55:14.167243Z",
     "shell.execute_reply": "2025-01-11T11:55:14.166133Z"
    },
    "papermill": {
     "duration": 0.028704,
     "end_time": "2025-01-11T11:55:14.168999",
     "exception": false,
     "start_time": "2025-01-11T11:55:14.140295",
     "status": "completed"
    },
    "tags": []
   },
   "outputs": [
    {
     "data": {
      "text/html": [
       "<div>\n",
       "<style scoped>\n",
       "    .dataframe tbody tr th:only-of-type {\n",
       "        vertical-align: middle;\n",
       "    }\n",
       "\n",
       "    .dataframe tbody tr th {\n",
       "        vertical-align: top;\n",
       "    }\n",
       "\n",
       "    .dataframe thead th {\n",
       "        text-align: right;\n",
       "    }\n",
       "</style>\n",
       "<table border=\"1\" class=\"dataframe\">\n",
       "  <thead>\n",
       "    <tr style=\"text-align: right;\">\n",
       "      <th></th>\n",
       "      <th>shop_id</th>\n",
       "      <th>item_id</th>\n",
       "      <th>item_price</th>\n",
       "      <th>item_cnt_day</th>\n",
       "    </tr>\n",
       "  </thead>\n",
       "  <tbody>\n",
       "    <tr>\n",
       "      <th>0</th>\n",
       "      <td>59</td>\n",
       "      <td>22154</td>\n",
       "      <td>999.00</td>\n",
       "      <td>1.0</td>\n",
       "    </tr>\n",
       "    <tr>\n",
       "      <th>1</th>\n",
       "      <td>25</td>\n",
       "      <td>2552</td>\n",
       "      <td>899.00</td>\n",
       "      <td>1.0</td>\n",
       "    </tr>\n",
       "    <tr>\n",
       "      <th>2</th>\n",
       "      <td>0</td>\n",
       "      <td>0</td>\n",
       "      <td>0.00</td>\n",
       "      <td>0.0</td>\n",
       "    </tr>\n",
       "    <tr>\n",
       "      <th>3</th>\n",
       "      <td>25</td>\n",
       "      <td>2554</td>\n",
       "      <td>1709.05</td>\n",
       "      <td>1.0</td>\n",
       "    </tr>\n",
       "    <tr>\n",
       "      <th>4</th>\n",
       "      <td>25</td>\n",
       "      <td>2555</td>\n",
       "      <td>1099.00</td>\n",
       "      <td>1.0</td>\n",
       "    </tr>\n",
       "    <tr>\n",
       "      <th>...</th>\n",
       "      <td>...</td>\n",
       "      <td>...</td>\n",
       "      <td>...</td>\n",
       "      <td>...</td>\n",
       "    </tr>\n",
       "    <tr>\n",
       "      <th>2935844</th>\n",
       "      <td>25</td>\n",
       "      <td>7409</td>\n",
       "      <td>299.00</td>\n",
       "      <td>1.0</td>\n",
       "    </tr>\n",
       "    <tr>\n",
       "      <th>2935845</th>\n",
       "      <td>25</td>\n",
       "      <td>7460</td>\n",
       "      <td>299.00</td>\n",
       "      <td>1.0</td>\n",
       "    </tr>\n",
       "    <tr>\n",
       "      <th>2935846</th>\n",
       "      <td>25</td>\n",
       "      <td>7459</td>\n",
       "      <td>349.00</td>\n",
       "      <td>1.0</td>\n",
       "    </tr>\n",
       "    <tr>\n",
       "      <th>2935847</th>\n",
       "      <td>25</td>\n",
       "      <td>7440</td>\n",
       "      <td>299.00</td>\n",
       "      <td>1.0</td>\n",
       "    </tr>\n",
       "    <tr>\n",
       "      <th>2935848</th>\n",
       "      <td>25</td>\n",
       "      <td>7460</td>\n",
       "      <td>299.00</td>\n",
       "      <td>1.0</td>\n",
       "    </tr>\n",
       "  </tbody>\n",
       "</table>\n",
       "<p>2935849 rows × 4 columns</p>\n",
       "</div>"
      ],
      "text/plain": [
       "         shop_id  item_id  item_price  item_cnt_day\n",
       "0             59    22154      999.00           1.0\n",
       "1             25     2552      899.00           1.0\n",
       "2              0        0        0.00           0.0\n",
       "3             25     2554     1709.05           1.0\n",
       "4             25     2555     1099.00           1.0\n",
       "...          ...      ...         ...           ...\n",
       "2935844       25     7409      299.00           1.0\n",
       "2935845       25     7460      299.00           1.0\n",
       "2935846       25     7459      349.00           1.0\n",
       "2935847       25     7440      299.00           1.0\n",
       "2935848       25     7460      299.00           1.0\n",
       "\n",
       "[2935849 rows x 4 columns]"
      ]
     },
     "execution_count": 32,
     "metadata": {},
     "output_type": "execute_result"
    }
   ],
   "source": [
    "df_sales1"
   ]
  },
  {
   "cell_type": "code",
   "execution_count": 33,
   "id": "d8852d1e",
   "metadata": {
    "execution": {
     "iopub.execute_input": "2025-01-11T11:55:14.197943Z",
     "iopub.status.busy": "2025-01-11T11:55:14.197566Z",
     "iopub.status.idle": "2025-01-11T11:55:14.271398Z",
     "shell.execute_reply": "2025-01-11T11:55:14.270263Z"
    },
    "papermill": {
     "duration": 0.090438,
     "end_time": "2025-01-11T11:55:14.273349",
     "exception": false,
     "start_time": "2025-01-11T11:55:14.182911",
     "status": "completed"
    },
    "tags": []
   },
   "outputs": [],
   "source": [
    "# can we club monthwise data \n",
    "df_sales_train=pd.concat([df_sales_train.date,df_sales1],axis=1,ignore_index=False)\n"
   ]
  },
  {
   "cell_type": "code",
   "execution_count": 34,
   "id": "a13cbbeb",
   "metadata": {
    "execution": {
     "iopub.execute_input": "2025-01-11T11:55:14.303808Z",
     "iopub.status.busy": "2025-01-11T11:55:14.303400Z",
     "iopub.status.idle": "2025-01-11T11:55:14.315986Z",
     "shell.execute_reply": "2025-01-11T11:55:14.315026Z"
    },
    "papermill": {
     "duration": 0.028878,
     "end_time": "2025-01-11T11:55:14.317453",
     "exception": false,
     "start_time": "2025-01-11T11:55:14.288575",
     "status": "completed"
    },
    "tags": []
   },
   "outputs": [
    {
     "data": {
      "text/html": [
       "<div>\n",
       "<style scoped>\n",
       "    .dataframe tbody tr th:only-of-type {\n",
       "        vertical-align: middle;\n",
       "    }\n",
       "\n",
       "    .dataframe tbody tr th {\n",
       "        vertical-align: top;\n",
       "    }\n",
       "\n",
       "    .dataframe thead th {\n",
       "        text-align: right;\n",
       "    }\n",
       "</style>\n",
       "<table border=\"1\" class=\"dataframe\">\n",
       "  <thead>\n",
       "    <tr style=\"text-align: right;\">\n",
       "      <th></th>\n",
       "      <th>date</th>\n",
       "      <th>shop_id</th>\n",
       "      <th>item_id</th>\n",
       "      <th>item_price</th>\n",
       "      <th>item_cnt_day</th>\n",
       "    </tr>\n",
       "  </thead>\n",
       "  <tbody>\n",
       "    <tr>\n",
       "      <th>0</th>\n",
       "      <td>02.01.2013</td>\n",
       "      <td>59</td>\n",
       "      <td>22154</td>\n",
       "      <td>999.00</td>\n",
       "      <td>1.0</td>\n",
       "    </tr>\n",
       "    <tr>\n",
       "      <th>1</th>\n",
       "      <td>03.01.2013</td>\n",
       "      <td>25</td>\n",
       "      <td>2552</td>\n",
       "      <td>899.00</td>\n",
       "      <td>1.0</td>\n",
       "    </tr>\n",
       "    <tr>\n",
       "      <th>2</th>\n",
       "      <td>05.01.2013</td>\n",
       "      <td>0</td>\n",
       "      <td>0</td>\n",
       "      <td>0.00</td>\n",
       "      <td>0.0</td>\n",
       "    </tr>\n",
       "    <tr>\n",
       "      <th>3</th>\n",
       "      <td>06.01.2013</td>\n",
       "      <td>25</td>\n",
       "      <td>2554</td>\n",
       "      <td>1709.05</td>\n",
       "      <td>1.0</td>\n",
       "    </tr>\n",
       "    <tr>\n",
       "      <th>4</th>\n",
       "      <td>15.01.2013</td>\n",
       "      <td>25</td>\n",
       "      <td>2555</td>\n",
       "      <td>1099.00</td>\n",
       "      <td>1.0</td>\n",
       "    </tr>\n",
       "    <tr>\n",
       "      <th>...</th>\n",
       "      <td>...</td>\n",
       "      <td>...</td>\n",
       "      <td>...</td>\n",
       "      <td>...</td>\n",
       "      <td>...</td>\n",
       "    </tr>\n",
       "    <tr>\n",
       "      <th>2935844</th>\n",
       "      <td>10.10.2015</td>\n",
       "      <td>25</td>\n",
       "      <td>7409</td>\n",
       "      <td>299.00</td>\n",
       "      <td>1.0</td>\n",
       "    </tr>\n",
       "    <tr>\n",
       "      <th>2935845</th>\n",
       "      <td>09.10.2015</td>\n",
       "      <td>25</td>\n",
       "      <td>7460</td>\n",
       "      <td>299.00</td>\n",
       "      <td>1.0</td>\n",
       "    </tr>\n",
       "    <tr>\n",
       "      <th>2935846</th>\n",
       "      <td>14.10.2015</td>\n",
       "      <td>25</td>\n",
       "      <td>7459</td>\n",
       "      <td>349.00</td>\n",
       "      <td>1.0</td>\n",
       "    </tr>\n",
       "    <tr>\n",
       "      <th>2935847</th>\n",
       "      <td>22.10.2015</td>\n",
       "      <td>25</td>\n",
       "      <td>7440</td>\n",
       "      <td>299.00</td>\n",
       "      <td>1.0</td>\n",
       "    </tr>\n",
       "    <tr>\n",
       "      <th>2935848</th>\n",
       "      <td>03.10.2015</td>\n",
       "      <td>25</td>\n",
       "      <td>7460</td>\n",
       "      <td>299.00</td>\n",
       "      <td>1.0</td>\n",
       "    </tr>\n",
       "  </tbody>\n",
       "</table>\n",
       "<p>2935849 rows × 5 columns</p>\n",
       "</div>"
      ],
      "text/plain": [
       "               date  shop_id  item_id  item_price  item_cnt_day\n",
       "0        02.01.2013       59    22154      999.00           1.0\n",
       "1        03.01.2013       25     2552      899.00           1.0\n",
       "2        05.01.2013        0        0        0.00           0.0\n",
       "3        06.01.2013       25     2554     1709.05           1.0\n",
       "4        15.01.2013       25     2555     1099.00           1.0\n",
       "...             ...      ...      ...         ...           ...\n",
       "2935844  10.10.2015       25     7409      299.00           1.0\n",
       "2935845  09.10.2015       25     7460      299.00           1.0\n",
       "2935846  14.10.2015       25     7459      349.00           1.0\n",
       "2935847  22.10.2015       25     7440      299.00           1.0\n",
       "2935848  03.10.2015       25     7460      299.00           1.0\n",
       "\n",
       "[2935849 rows x 5 columns]"
      ]
     },
     "execution_count": 34,
     "metadata": {},
     "output_type": "execute_result"
    }
   ],
   "source": [
    "df_sales_train"
   ]
  },
  {
   "cell_type": "code",
   "execution_count": 35,
   "id": "ce40ea5c",
   "metadata": {
    "execution": {
     "iopub.execute_input": "2025-01-11T11:55:14.350450Z",
     "iopub.status.busy": "2025-01-11T11:55:14.350063Z",
     "iopub.status.idle": "2025-01-11T11:55:14.709524Z",
     "shell.execute_reply": "2025-01-11T11:55:14.708323Z"
    },
    "papermill": {
     "duration": 0.379151,
     "end_time": "2025-01-11T11:55:14.711425",
     "exception": false,
     "start_time": "2025-01-11T11:55:14.332274",
     "status": "completed"
    },
    "tags": []
   },
   "outputs": [],
   "source": [
    "type(df_sales_train.date[0])# we can see that the date is in the form of a string . Then how to convert into date time format\n",
    "\n",
    "# convert to date\n",
    "df_sales_train['date'] = pd.to_datetime(df_sales_train['date'],format = '%d.%m.%Y')"
   ]
  },
  {
   "cell_type": "code",
   "execution_count": 36,
   "id": "7da935c3",
   "metadata": {
    "execution": {
     "iopub.execute_input": "2025-01-11T11:55:14.741017Z",
     "iopub.status.busy": "2025-01-11T11:55:14.740620Z",
     "iopub.status.idle": "2025-01-11T11:55:14.754591Z",
     "shell.execute_reply": "2025-01-11T11:55:14.753491Z"
    },
    "papermill": {
     "duration": 0.030483,
     "end_time": "2025-01-11T11:55:14.756127",
     "exception": false,
     "start_time": "2025-01-11T11:55:14.725644",
     "status": "completed"
    },
    "tags": []
   },
   "outputs": [
    {
     "data": {
      "text/html": [
       "<div>\n",
       "<style scoped>\n",
       "    .dataframe tbody tr th:only-of-type {\n",
       "        vertical-align: middle;\n",
       "    }\n",
       "\n",
       "    .dataframe tbody tr th {\n",
       "        vertical-align: top;\n",
       "    }\n",
       "\n",
       "    .dataframe thead th {\n",
       "        text-align: right;\n",
       "    }\n",
       "</style>\n",
       "<table border=\"1\" class=\"dataframe\">\n",
       "  <thead>\n",
       "    <tr style=\"text-align: right;\">\n",
       "      <th></th>\n",
       "      <th>date</th>\n",
       "      <th>shop_id</th>\n",
       "      <th>item_id</th>\n",
       "      <th>item_price</th>\n",
       "      <th>item_cnt_day</th>\n",
       "    </tr>\n",
       "  </thead>\n",
       "  <tbody>\n",
       "    <tr>\n",
       "      <th>0</th>\n",
       "      <td>2013-01-02</td>\n",
       "      <td>59</td>\n",
       "      <td>22154</td>\n",
       "      <td>999.00</td>\n",
       "      <td>1.0</td>\n",
       "    </tr>\n",
       "    <tr>\n",
       "      <th>1</th>\n",
       "      <td>2013-01-03</td>\n",
       "      <td>25</td>\n",
       "      <td>2552</td>\n",
       "      <td>899.00</td>\n",
       "      <td>1.0</td>\n",
       "    </tr>\n",
       "    <tr>\n",
       "      <th>2</th>\n",
       "      <td>2013-01-05</td>\n",
       "      <td>0</td>\n",
       "      <td>0</td>\n",
       "      <td>0.00</td>\n",
       "      <td>0.0</td>\n",
       "    </tr>\n",
       "    <tr>\n",
       "      <th>3</th>\n",
       "      <td>2013-01-06</td>\n",
       "      <td>25</td>\n",
       "      <td>2554</td>\n",
       "      <td>1709.05</td>\n",
       "      <td>1.0</td>\n",
       "    </tr>\n",
       "    <tr>\n",
       "      <th>4</th>\n",
       "      <td>2013-01-15</td>\n",
       "      <td>25</td>\n",
       "      <td>2555</td>\n",
       "      <td>1099.00</td>\n",
       "      <td>1.0</td>\n",
       "    </tr>\n",
       "    <tr>\n",
       "      <th>...</th>\n",
       "      <td>...</td>\n",
       "      <td>...</td>\n",
       "      <td>...</td>\n",
       "      <td>...</td>\n",
       "      <td>...</td>\n",
       "    </tr>\n",
       "    <tr>\n",
       "      <th>2935844</th>\n",
       "      <td>2015-10-10</td>\n",
       "      <td>25</td>\n",
       "      <td>7409</td>\n",
       "      <td>299.00</td>\n",
       "      <td>1.0</td>\n",
       "    </tr>\n",
       "    <tr>\n",
       "      <th>2935845</th>\n",
       "      <td>2015-10-09</td>\n",
       "      <td>25</td>\n",
       "      <td>7460</td>\n",
       "      <td>299.00</td>\n",
       "      <td>1.0</td>\n",
       "    </tr>\n",
       "    <tr>\n",
       "      <th>2935846</th>\n",
       "      <td>2015-10-14</td>\n",
       "      <td>25</td>\n",
       "      <td>7459</td>\n",
       "      <td>349.00</td>\n",
       "      <td>1.0</td>\n",
       "    </tr>\n",
       "    <tr>\n",
       "      <th>2935847</th>\n",
       "      <td>2015-10-22</td>\n",
       "      <td>25</td>\n",
       "      <td>7440</td>\n",
       "      <td>299.00</td>\n",
       "      <td>1.0</td>\n",
       "    </tr>\n",
       "    <tr>\n",
       "      <th>2935848</th>\n",
       "      <td>2015-10-03</td>\n",
       "      <td>25</td>\n",
       "      <td>7460</td>\n",
       "      <td>299.00</td>\n",
       "      <td>1.0</td>\n",
       "    </tr>\n",
       "  </tbody>\n",
       "</table>\n",
       "<p>2935849 rows × 5 columns</p>\n",
       "</div>"
      ],
      "text/plain": [
       "              date  shop_id  item_id  item_price  item_cnt_day\n",
       "0       2013-01-02       59    22154      999.00           1.0\n",
       "1       2013-01-03       25     2552      899.00           1.0\n",
       "2       2013-01-05        0        0        0.00           0.0\n",
       "3       2013-01-06       25     2554     1709.05           1.0\n",
       "4       2013-01-15       25     2555     1099.00           1.0\n",
       "...            ...      ...      ...         ...           ...\n",
       "2935844 2015-10-10       25     7409      299.00           1.0\n",
       "2935845 2015-10-09       25     7460      299.00           1.0\n",
       "2935846 2015-10-14       25     7459      349.00           1.0\n",
       "2935847 2015-10-22       25     7440      299.00           1.0\n",
       "2935848 2015-10-03       25     7460      299.00           1.0\n",
       "\n",
       "[2935849 rows x 5 columns]"
      ]
     },
     "execution_count": 36,
     "metadata": {},
     "output_type": "execute_result"
    }
   ],
   "source": [
    "df_sales_train"
   ]
  },
  {
   "cell_type": "code",
   "execution_count": 37,
   "id": "b07097ad",
   "metadata": {
    "execution": {
     "iopub.execute_input": "2025-01-11T11:55:14.785991Z",
     "iopub.status.busy": "2025-01-11T11:55:14.785592Z",
     "iopub.status.idle": "2025-01-11T11:55:14.791894Z",
     "shell.execute_reply": "2025-01-11T11:55:14.790884Z"
    },
    "papermill": {
     "duration": 0.02288,
     "end_time": "2025-01-11T11:55:14.793528",
     "exception": false,
     "start_time": "2025-01-11T11:55:14.770648",
     "status": "completed"
    },
    "tags": []
   },
   "outputs": [
    {
     "data": {
      "text/plain": [
       "pandas._libs.tslibs.timestamps.Timestamp"
      ]
     },
     "execution_count": 37,
     "metadata": {},
     "output_type": "execute_result"
    }
   ],
   "source": [
    "type(df_sales_train.date[0])"
   ]
  },
  {
   "cell_type": "code",
   "execution_count": 38,
   "id": "73abcd30",
   "metadata": {
    "execution": {
     "iopub.execute_input": "2025-01-11T11:55:14.823137Z",
     "iopub.status.busy": "2025-01-11T11:55:14.822804Z",
     "iopub.status.idle": "2025-01-11T11:55:15.204713Z",
     "shell.execute_reply": "2025-01-11T11:55:15.203660Z"
    },
    "papermill": {
     "duration": 0.398937,
     "end_time": "2025-01-11T11:55:15.206702",
     "exception": false,
     "start_time": "2025-01-11T11:55:14.807765",
     "status": "completed"
    },
    "tags": []
   },
   "outputs": [],
   "source": [
    "# now i am sorting the values as per the date column\n",
    "df_sales_train=df_sales_train.sort_values(by='date',ascending=True)\n"
   ]
  },
  {
   "cell_type": "code",
   "execution_count": 39,
   "id": "71275fcb",
   "metadata": {
    "execution": {
     "iopub.execute_input": "2025-01-11T11:55:15.238797Z",
     "iopub.status.busy": "2025-01-11T11:55:15.238373Z",
     "iopub.status.idle": "2025-01-11T11:55:15.252013Z",
     "shell.execute_reply": "2025-01-11T11:55:15.250920Z"
    },
    "papermill": {
     "duration": 0.031586,
     "end_time": "2025-01-11T11:55:15.253559",
     "exception": false,
     "start_time": "2025-01-11T11:55:15.221973",
     "status": "completed"
    },
    "tags": []
   },
   "outputs": [
    {
     "data": {
      "text/html": [
       "<div>\n",
       "<style scoped>\n",
       "    .dataframe tbody tr th:only-of-type {\n",
       "        vertical-align: middle;\n",
       "    }\n",
       "\n",
       "    .dataframe tbody tr th {\n",
       "        vertical-align: top;\n",
       "    }\n",
       "\n",
       "    .dataframe thead th {\n",
       "        text-align: right;\n",
       "    }\n",
       "</style>\n",
       "<table border=\"1\" class=\"dataframe\">\n",
       "  <thead>\n",
       "    <tr style=\"text-align: right;\">\n",
       "      <th></th>\n",
       "      <th>date</th>\n",
       "      <th>shop_id</th>\n",
       "      <th>item_id</th>\n",
       "      <th>item_price</th>\n",
       "      <th>item_cnt_day</th>\n",
       "    </tr>\n",
       "  </thead>\n",
       "  <tbody>\n",
       "    <tr>\n",
       "      <th>49800</th>\n",
       "      <td>2013-01-01</td>\n",
       "      <td>18</td>\n",
       "      <td>5823</td>\n",
       "      <td>2500.0</td>\n",
       "      <td>1.0</td>\n",
       "    </tr>\n",
       "    <tr>\n",
       "      <th>29784</th>\n",
       "      <td>2013-01-01</td>\n",
       "      <td>27</td>\n",
       "      <td>5573</td>\n",
       "      <td>849.0</td>\n",
       "      <td>1.0</td>\n",
       "    </tr>\n",
       "    <tr>\n",
       "      <th>35476</th>\n",
       "      <td>2013-01-01</td>\n",
       "      <td>7</td>\n",
       "      <td>1006</td>\n",
       "      <td>399.0</td>\n",
       "      <td>1.0</td>\n",
       "    </tr>\n",
       "    <tr>\n",
       "      <th>8330</th>\n",
       "      <td>2013-01-01</td>\n",
       "      <td>19</td>\n",
       "      <td>17707</td>\n",
       "      <td>899.0</td>\n",
       "      <td>1.0</td>\n",
       "    </tr>\n",
       "    <tr>\n",
       "      <th>57384</th>\n",
       "      <td>2013-01-01</td>\n",
       "      <td>14</td>\n",
       "      <td>19548</td>\n",
       "      <td>149.0</td>\n",
       "      <td>1.0</td>\n",
       "    </tr>\n",
       "    <tr>\n",
       "      <th>...</th>\n",
       "      <td>...</td>\n",
       "      <td>...</td>\n",
       "      <td>...</td>\n",
       "      <td>...</td>\n",
       "      <td>...</td>\n",
       "    </tr>\n",
       "    <tr>\n",
       "      <th>2885098</th>\n",
       "      <td>2015-10-31</td>\n",
       "      <td>41</td>\n",
       "      <td>21386</td>\n",
       "      <td>169.0</td>\n",
       "      <td>1.0</td>\n",
       "    </tr>\n",
       "    <tr>\n",
       "      <th>2930981</th>\n",
       "      <td>2015-10-31</td>\n",
       "      <td>21</td>\n",
       "      <td>988</td>\n",
       "      <td>199.0</td>\n",
       "      <td>1.0</td>\n",
       "    </tr>\n",
       "    <tr>\n",
       "      <th>2885097</th>\n",
       "      <td>2015-10-31</td>\n",
       "      <td>41</td>\n",
       "      <td>21377</td>\n",
       "      <td>169.0</td>\n",
       "      <td>1.0</td>\n",
       "    </tr>\n",
       "    <tr>\n",
       "      <th>2930993</th>\n",
       "      <td>2015-10-31</td>\n",
       "      <td>22</td>\n",
       "      <td>10207</td>\n",
       "      <td>1199.0</td>\n",
       "      <td>1.0</td>\n",
       "    </tr>\n",
       "    <tr>\n",
       "      <th>2928850</th>\n",
       "      <td>2015-10-31</td>\n",
       "      <td>24</td>\n",
       "      <td>3042</td>\n",
       "      <td>3199.0</td>\n",
       "      <td>1.0</td>\n",
       "    </tr>\n",
       "  </tbody>\n",
       "</table>\n",
       "<p>2935849 rows × 5 columns</p>\n",
       "</div>"
      ],
      "text/plain": [
       "              date  shop_id  item_id  item_price  item_cnt_day\n",
       "49800   2013-01-01       18     5823      2500.0           1.0\n",
       "29784   2013-01-01       27     5573       849.0           1.0\n",
       "35476   2013-01-01        7     1006       399.0           1.0\n",
       "8330    2013-01-01       19    17707       899.0           1.0\n",
       "57384   2013-01-01       14    19548       149.0           1.0\n",
       "...            ...      ...      ...         ...           ...\n",
       "2885098 2015-10-31       41    21386       169.0           1.0\n",
       "2930981 2015-10-31       21      988       199.0           1.0\n",
       "2885097 2015-10-31       41    21377       169.0           1.0\n",
       "2930993 2015-10-31       22    10207      1199.0           1.0\n",
       "2928850 2015-10-31       24     3042      3199.0           1.0\n",
       "\n",
       "[2935849 rows x 5 columns]"
      ]
     },
     "execution_count": 39,
     "metadata": {},
     "output_type": "execute_result"
    }
   ],
   "source": [
    "df_sales_train"
   ]
  },
  {
   "cell_type": "code",
   "execution_count": 40,
   "id": "c39f635e",
   "metadata": {
    "execution": {
     "iopub.execute_input": "2025-01-11T11:55:15.284568Z",
     "iopub.status.busy": "2025-01-11T11:55:15.284128Z",
     "iopub.status.idle": "2025-01-11T11:55:15.288702Z",
     "shell.execute_reply": "2025-01-11T11:55:15.287544Z"
    },
    "papermill": {
     "duration": 0.021904,
     "end_time": "2025-01-11T11:55:15.290403",
     "exception": false,
     "start_time": "2025-01-11T11:55:15.268499",
     "status": "completed"
    },
    "tags": []
   },
   "outputs": [],
   "source": [
    "# now i need to re organise the index numbers, but befor ethat i am going to remove the index \n",
    "df_sales_train.reset_index(drop=True,inplace=True)"
   ]
  },
  {
   "cell_type": "code",
   "execution_count": 41,
   "id": "0d75e468",
   "metadata": {
    "execution": {
     "iopub.execute_input": "2025-01-11T11:55:15.321359Z",
     "iopub.status.busy": "2025-01-11T11:55:15.320987Z",
     "iopub.status.idle": "2025-01-11T11:55:15.333968Z",
     "shell.execute_reply": "2025-01-11T11:55:15.332910Z"
    },
    "papermill": {
     "duration": 0.030046,
     "end_time": "2025-01-11T11:55:15.335663",
     "exception": false,
     "start_time": "2025-01-11T11:55:15.305617",
     "status": "completed"
    },
    "tags": []
   },
   "outputs": [
    {
     "data": {
      "text/html": [
       "<div>\n",
       "<style scoped>\n",
       "    .dataframe tbody tr th:only-of-type {\n",
       "        vertical-align: middle;\n",
       "    }\n",
       "\n",
       "    .dataframe tbody tr th {\n",
       "        vertical-align: top;\n",
       "    }\n",
       "\n",
       "    .dataframe thead th {\n",
       "        text-align: right;\n",
       "    }\n",
       "</style>\n",
       "<table border=\"1\" class=\"dataframe\">\n",
       "  <thead>\n",
       "    <tr style=\"text-align: right;\">\n",
       "      <th></th>\n",
       "      <th>date</th>\n",
       "      <th>shop_id</th>\n",
       "      <th>item_id</th>\n",
       "      <th>item_price</th>\n",
       "      <th>item_cnt_day</th>\n",
       "    </tr>\n",
       "  </thead>\n",
       "  <tbody>\n",
       "    <tr>\n",
       "      <th>0</th>\n",
       "      <td>2013-01-01</td>\n",
       "      <td>18</td>\n",
       "      <td>5823</td>\n",
       "      <td>2500.0</td>\n",
       "      <td>1.0</td>\n",
       "    </tr>\n",
       "    <tr>\n",
       "      <th>1</th>\n",
       "      <td>2013-01-01</td>\n",
       "      <td>27</td>\n",
       "      <td>5573</td>\n",
       "      <td>849.0</td>\n",
       "      <td>1.0</td>\n",
       "    </tr>\n",
       "    <tr>\n",
       "      <th>2</th>\n",
       "      <td>2013-01-01</td>\n",
       "      <td>7</td>\n",
       "      <td>1006</td>\n",
       "      <td>399.0</td>\n",
       "      <td>1.0</td>\n",
       "    </tr>\n",
       "    <tr>\n",
       "      <th>3</th>\n",
       "      <td>2013-01-01</td>\n",
       "      <td>19</td>\n",
       "      <td>17707</td>\n",
       "      <td>899.0</td>\n",
       "      <td>1.0</td>\n",
       "    </tr>\n",
       "    <tr>\n",
       "      <th>4</th>\n",
       "      <td>2013-01-01</td>\n",
       "      <td>14</td>\n",
       "      <td>19548</td>\n",
       "      <td>149.0</td>\n",
       "      <td>1.0</td>\n",
       "    </tr>\n",
       "    <tr>\n",
       "      <th>...</th>\n",
       "      <td>...</td>\n",
       "      <td>...</td>\n",
       "      <td>...</td>\n",
       "      <td>...</td>\n",
       "      <td>...</td>\n",
       "    </tr>\n",
       "    <tr>\n",
       "      <th>2935844</th>\n",
       "      <td>2015-10-31</td>\n",
       "      <td>41</td>\n",
       "      <td>21386</td>\n",
       "      <td>169.0</td>\n",
       "      <td>1.0</td>\n",
       "    </tr>\n",
       "    <tr>\n",
       "      <th>2935845</th>\n",
       "      <td>2015-10-31</td>\n",
       "      <td>21</td>\n",
       "      <td>988</td>\n",
       "      <td>199.0</td>\n",
       "      <td>1.0</td>\n",
       "    </tr>\n",
       "    <tr>\n",
       "      <th>2935846</th>\n",
       "      <td>2015-10-31</td>\n",
       "      <td>41</td>\n",
       "      <td>21377</td>\n",
       "      <td>169.0</td>\n",
       "      <td>1.0</td>\n",
       "    </tr>\n",
       "    <tr>\n",
       "      <th>2935847</th>\n",
       "      <td>2015-10-31</td>\n",
       "      <td>22</td>\n",
       "      <td>10207</td>\n",
       "      <td>1199.0</td>\n",
       "      <td>1.0</td>\n",
       "    </tr>\n",
       "    <tr>\n",
       "      <th>2935848</th>\n",
       "      <td>2015-10-31</td>\n",
       "      <td>24</td>\n",
       "      <td>3042</td>\n",
       "      <td>3199.0</td>\n",
       "      <td>1.0</td>\n",
       "    </tr>\n",
       "  </tbody>\n",
       "</table>\n",
       "<p>2935849 rows × 5 columns</p>\n",
       "</div>"
      ],
      "text/plain": [
       "              date  shop_id  item_id  item_price  item_cnt_day\n",
       "0       2013-01-01       18     5823      2500.0           1.0\n",
       "1       2013-01-01       27     5573       849.0           1.0\n",
       "2       2013-01-01        7     1006       399.0           1.0\n",
       "3       2013-01-01       19    17707       899.0           1.0\n",
       "4       2013-01-01       14    19548       149.0           1.0\n",
       "...            ...      ...      ...         ...           ...\n",
       "2935844 2015-10-31       41    21386       169.0           1.0\n",
       "2935845 2015-10-31       21      988       199.0           1.0\n",
       "2935846 2015-10-31       41    21377       169.0           1.0\n",
       "2935847 2015-10-31       22    10207      1199.0           1.0\n",
       "2935848 2015-10-31       24     3042      3199.0           1.0\n",
       "\n",
       "[2935849 rows x 5 columns]"
      ]
     },
     "execution_count": 41,
     "metadata": {},
     "output_type": "execute_result"
    }
   ],
   "source": [
    "df_sales_train"
   ]
  },
  {
   "cell_type": "code",
   "execution_count": 42,
   "id": "f77427cc",
   "metadata": {
    "execution": {
     "iopub.execute_input": "2025-01-11T11:55:15.368217Z",
     "iopub.status.busy": "2025-01-11T11:55:15.367893Z",
     "iopub.status.idle": "2025-01-11T11:55:15.387158Z",
     "shell.execute_reply": "2025-01-11T11:55:15.386289Z"
    },
    "papermill": {
     "duration": 0.036886,
     "end_time": "2025-01-11T11:55:15.389256",
     "exception": false,
     "start_time": "2025-01-11T11:55:15.352370",
     "status": "completed"
    },
    "tags": []
   },
   "outputs": [],
   "source": [
    "df_sales_train['item_cnt_month']=df_sales_train.item_cnt_day*df_sales_train.item_price\t"
   ]
  },
  {
   "cell_type": "code",
   "execution_count": 43,
   "id": "e7de8acd",
   "metadata": {
    "execution": {
     "iopub.execute_input": "2025-01-11T11:55:15.420804Z",
     "iopub.status.busy": "2025-01-11T11:55:15.420403Z",
     "iopub.status.idle": "2025-01-11T11:55:15.434802Z",
     "shell.execute_reply": "2025-01-11T11:55:15.433840Z"
    },
    "papermill": {
     "duration": 0.03173,
     "end_time": "2025-01-11T11:55:15.436365",
     "exception": false,
     "start_time": "2025-01-11T11:55:15.404635",
     "status": "completed"
    },
    "tags": []
   },
   "outputs": [
    {
     "data": {
      "text/html": [
       "<div>\n",
       "<style scoped>\n",
       "    .dataframe tbody tr th:only-of-type {\n",
       "        vertical-align: middle;\n",
       "    }\n",
       "\n",
       "    .dataframe tbody tr th {\n",
       "        vertical-align: top;\n",
       "    }\n",
       "\n",
       "    .dataframe thead th {\n",
       "        text-align: right;\n",
       "    }\n",
       "</style>\n",
       "<table border=\"1\" class=\"dataframe\">\n",
       "  <thead>\n",
       "    <tr style=\"text-align: right;\">\n",
       "      <th></th>\n",
       "      <th>date</th>\n",
       "      <th>shop_id</th>\n",
       "      <th>item_id</th>\n",
       "      <th>item_price</th>\n",
       "      <th>item_cnt_day</th>\n",
       "      <th>item_cnt_month</th>\n",
       "    </tr>\n",
       "  </thead>\n",
       "  <tbody>\n",
       "    <tr>\n",
       "      <th>0</th>\n",
       "      <td>2013-01-01</td>\n",
       "      <td>18</td>\n",
       "      <td>5823</td>\n",
       "      <td>2500.0</td>\n",
       "      <td>1.0</td>\n",
       "      <td>2500.0</td>\n",
       "    </tr>\n",
       "    <tr>\n",
       "      <th>1</th>\n",
       "      <td>2013-01-01</td>\n",
       "      <td>27</td>\n",
       "      <td>5573</td>\n",
       "      <td>849.0</td>\n",
       "      <td>1.0</td>\n",
       "      <td>849.0</td>\n",
       "    </tr>\n",
       "    <tr>\n",
       "      <th>2</th>\n",
       "      <td>2013-01-01</td>\n",
       "      <td>7</td>\n",
       "      <td>1006</td>\n",
       "      <td>399.0</td>\n",
       "      <td>1.0</td>\n",
       "      <td>399.0</td>\n",
       "    </tr>\n",
       "    <tr>\n",
       "      <th>3</th>\n",
       "      <td>2013-01-01</td>\n",
       "      <td>19</td>\n",
       "      <td>17707</td>\n",
       "      <td>899.0</td>\n",
       "      <td>1.0</td>\n",
       "      <td>899.0</td>\n",
       "    </tr>\n",
       "    <tr>\n",
       "      <th>4</th>\n",
       "      <td>2013-01-01</td>\n",
       "      <td>14</td>\n",
       "      <td>19548</td>\n",
       "      <td>149.0</td>\n",
       "      <td>1.0</td>\n",
       "      <td>149.0</td>\n",
       "    </tr>\n",
       "    <tr>\n",
       "      <th>...</th>\n",
       "      <td>...</td>\n",
       "      <td>...</td>\n",
       "      <td>...</td>\n",
       "      <td>...</td>\n",
       "      <td>...</td>\n",
       "      <td>...</td>\n",
       "    </tr>\n",
       "    <tr>\n",
       "      <th>2935844</th>\n",
       "      <td>2015-10-31</td>\n",
       "      <td>41</td>\n",
       "      <td>21386</td>\n",
       "      <td>169.0</td>\n",
       "      <td>1.0</td>\n",
       "      <td>169.0</td>\n",
       "    </tr>\n",
       "    <tr>\n",
       "      <th>2935845</th>\n",
       "      <td>2015-10-31</td>\n",
       "      <td>21</td>\n",
       "      <td>988</td>\n",
       "      <td>199.0</td>\n",
       "      <td>1.0</td>\n",
       "      <td>199.0</td>\n",
       "    </tr>\n",
       "    <tr>\n",
       "      <th>2935846</th>\n",
       "      <td>2015-10-31</td>\n",
       "      <td>41</td>\n",
       "      <td>21377</td>\n",
       "      <td>169.0</td>\n",
       "      <td>1.0</td>\n",
       "      <td>169.0</td>\n",
       "    </tr>\n",
       "    <tr>\n",
       "      <th>2935847</th>\n",
       "      <td>2015-10-31</td>\n",
       "      <td>22</td>\n",
       "      <td>10207</td>\n",
       "      <td>1199.0</td>\n",
       "      <td>1.0</td>\n",
       "      <td>1199.0</td>\n",
       "    </tr>\n",
       "    <tr>\n",
       "      <th>2935848</th>\n",
       "      <td>2015-10-31</td>\n",
       "      <td>24</td>\n",
       "      <td>3042</td>\n",
       "      <td>3199.0</td>\n",
       "      <td>1.0</td>\n",
       "      <td>3199.0</td>\n",
       "    </tr>\n",
       "  </tbody>\n",
       "</table>\n",
       "<p>2935849 rows × 6 columns</p>\n",
       "</div>"
      ],
      "text/plain": [
       "              date  shop_id  item_id  item_price  item_cnt_day  item_cnt_month\n",
       "0       2013-01-01       18     5823      2500.0           1.0          2500.0\n",
       "1       2013-01-01       27     5573       849.0           1.0           849.0\n",
       "2       2013-01-01        7     1006       399.0           1.0           399.0\n",
       "3       2013-01-01       19    17707       899.0           1.0           899.0\n",
       "4       2013-01-01       14    19548       149.0           1.0           149.0\n",
       "...            ...      ...      ...         ...           ...             ...\n",
       "2935844 2015-10-31       41    21386       169.0           1.0           169.0\n",
       "2935845 2015-10-31       21      988       199.0           1.0           199.0\n",
       "2935846 2015-10-31       41    21377       169.0           1.0           169.0\n",
       "2935847 2015-10-31       22    10207      1199.0           1.0          1199.0\n",
       "2935848 2015-10-31       24     3042      3199.0           1.0          3199.0\n",
       "\n",
       "[2935849 rows x 6 columns]"
      ]
     },
     "execution_count": 43,
     "metadata": {},
     "output_type": "execute_result"
    }
   ],
   "source": [
    "df_sales_train"
   ]
  },
  {
   "cell_type": "code",
   "execution_count": 44,
   "id": "9d1baa79",
   "metadata": {
    "execution": {
     "iopub.execute_input": "2025-01-11T11:55:15.467911Z",
     "iopub.status.busy": "2025-01-11T11:55:15.467414Z",
     "iopub.status.idle": "2025-01-11T11:55:15.483102Z",
     "shell.execute_reply": "2025-01-11T11:55:15.482082Z"
    },
    "papermill": {
     "duration": 0.033167,
     "end_time": "2025-01-11T11:55:15.484844",
     "exception": false,
     "start_time": "2025-01-11T11:55:15.451677",
     "status": "completed"
    },
    "tags": []
   },
   "outputs": [
    {
     "data": {
      "text/html": [
       "<div>\n",
       "<style scoped>\n",
       "    .dataframe tbody tr th:only-of-type {\n",
       "        vertical-align: middle;\n",
       "    }\n",
       "\n",
       "    .dataframe tbody tr th {\n",
       "        vertical-align: top;\n",
       "    }\n",
       "\n",
       "    .dataframe thead th {\n",
       "        text-align: right;\n",
       "    }\n",
       "</style>\n",
       "<table border=\"1\" class=\"dataframe\">\n",
       "  <thead>\n",
       "    <tr style=\"text-align: right;\">\n",
       "      <th></th>\n",
       "      <th>date</th>\n",
       "      <th>shop_id</th>\n",
       "      <th>item_id</th>\n",
       "      <th>item_price</th>\n",
       "      <th>item_cnt_day</th>\n",
       "      <th>item_cnt_month</th>\n",
       "    </tr>\n",
       "  </thead>\n",
       "  <tbody>\n",
       "    <tr>\n",
       "      <th>0</th>\n",
       "      <td>2013-01-01</td>\n",
       "      <td>18</td>\n",
       "      <td>5823</td>\n",
       "      <td>2500.0</td>\n",
       "      <td>1.0</td>\n",
       "      <td>2500.0</td>\n",
       "    </tr>\n",
       "    <tr>\n",
       "      <th>1</th>\n",
       "      <td>2013-01-01</td>\n",
       "      <td>27</td>\n",
       "      <td>5573</td>\n",
       "      <td>849.0</td>\n",
       "      <td>1.0</td>\n",
       "      <td>849.0</td>\n",
       "    </tr>\n",
       "    <tr>\n",
       "      <th>2</th>\n",
       "      <td>2013-01-01</td>\n",
       "      <td>7</td>\n",
       "      <td>1006</td>\n",
       "      <td>399.0</td>\n",
       "      <td>1.0</td>\n",
       "      <td>399.0</td>\n",
       "    </tr>\n",
       "    <tr>\n",
       "      <th>3</th>\n",
       "      <td>2013-01-01</td>\n",
       "      <td>19</td>\n",
       "      <td>17707</td>\n",
       "      <td>899.0</td>\n",
       "      <td>1.0</td>\n",
       "      <td>899.0</td>\n",
       "    </tr>\n",
       "    <tr>\n",
       "      <th>4</th>\n",
       "      <td>2013-01-01</td>\n",
       "      <td>14</td>\n",
       "      <td>19548</td>\n",
       "      <td>149.0</td>\n",
       "      <td>1.0</td>\n",
       "      <td>149.0</td>\n",
       "    </tr>\n",
       "    <tr>\n",
       "      <th>5</th>\n",
       "      <td>2013-01-01</td>\n",
       "      <td>27</td>\n",
       "      <td>5574</td>\n",
       "      <td>699.0</td>\n",
       "      <td>2.0</td>\n",
       "      <td>1398.0</td>\n",
       "    </tr>\n",
       "    <tr>\n",
       "      <th>6</th>\n",
       "      <td>2013-01-01</td>\n",
       "      <td>8</td>\n",
       "      <td>16993</td>\n",
       "      <td>399.0</td>\n",
       "      <td>1.0</td>\n",
       "      <td>399.0</td>\n",
       "    </tr>\n",
       "    <tr>\n",
       "      <th>7</th>\n",
       "      <td>2013-01-01</td>\n",
       "      <td>28</td>\n",
       "      <td>6468</td>\n",
       "      <td>449.0</td>\n",
       "      <td>1.0</td>\n",
       "      <td>449.0</td>\n",
       "    </tr>\n",
       "    <tr>\n",
       "      <th>8</th>\n",
       "      <td>2013-01-01</td>\n",
       "      <td>19</td>\n",
       "      <td>13071</td>\n",
       "      <td>499.0</td>\n",
       "      <td>1.0</td>\n",
       "      <td>499.0</td>\n",
       "    </tr>\n",
       "    <tr>\n",
       "      <th>9</th>\n",
       "      <td>2013-01-01</td>\n",
       "      <td>51</td>\n",
       "      <td>6450</td>\n",
       "      <td>483.0</td>\n",
       "      <td>1.0</td>\n",
       "      <td>483.0</td>\n",
       "    </tr>\n",
       "    <tr>\n",
       "      <th>10</th>\n",
       "      <td>2013-01-01</td>\n",
       "      <td>54</td>\n",
       "      <td>12370</td>\n",
       "      <td>149.0</td>\n",
       "      <td>1.0</td>\n",
       "      <td>149.0</td>\n",
       "    </tr>\n",
       "    <tr>\n",
       "      <th>11</th>\n",
       "      <td>2013-01-01</td>\n",
       "      <td>42</td>\n",
       "      <td>15702</td>\n",
       "      <td>549.0</td>\n",
       "      <td>1.0</td>\n",
       "      <td>549.0</td>\n",
       "    </tr>\n",
       "    <tr>\n",
       "      <th>12</th>\n",
       "      <td>2013-01-01</td>\n",
       "      <td>42</td>\n",
       "      <td>413</td>\n",
       "      <td>249.0</td>\n",
       "      <td>1.0</td>\n",
       "      <td>249.0</td>\n",
       "    </tr>\n",
       "    <tr>\n",
       "      <th>13</th>\n",
       "      <td>2013-01-01</td>\n",
       "      <td>19</td>\n",
       "      <td>12266</td>\n",
       "      <td>129.0</td>\n",
       "      <td>1.0</td>\n",
       "      <td>129.0</td>\n",
       "    </tr>\n",
       "    <tr>\n",
       "      <th>14</th>\n",
       "      <td>2013-01-01</td>\n",
       "      <td>54</td>\n",
       "      <td>13431</td>\n",
       "      <td>11489.7</td>\n",
       "      <td>1.0</td>\n",
       "      <td>11489.7</td>\n",
       "    </tr>\n",
       "    <tr>\n",
       "      <th>15</th>\n",
       "      <td>2013-01-01</td>\n",
       "      <td>54</td>\n",
       "      <td>8709</td>\n",
       "      <td>349.0</td>\n",
       "      <td>1.0</td>\n",
       "      <td>349.0</td>\n",
       "    </tr>\n",
       "    <tr>\n",
       "      <th>16</th>\n",
       "      <td>2013-01-01</td>\n",
       "      <td>54</td>\n",
       "      <td>20144</td>\n",
       "      <td>249.0</td>\n",
       "      <td>1.0</td>\n",
       "      <td>249.0</td>\n",
       "    </tr>\n",
       "    <tr>\n",
       "      <th>17</th>\n",
       "      <td>2013-01-01</td>\n",
       "      <td>27</td>\n",
       "      <td>6156</td>\n",
       "      <td>399.0</td>\n",
       "      <td>1.0</td>\n",
       "      <td>399.0</td>\n",
       "    </tr>\n",
       "    <tr>\n",
       "      <th>18</th>\n",
       "      <td>2013-01-01</td>\n",
       "      <td>51</td>\n",
       "      <td>15070</td>\n",
       "      <td>183.0</td>\n",
       "      <td>1.0</td>\n",
       "      <td>183.0</td>\n",
       "    </tr>\n",
       "    <tr>\n",
       "      <th>19</th>\n",
       "      <td>2013-01-01</td>\n",
       "      <td>19</td>\n",
       "      <td>13102</td>\n",
       "      <td>1290.0</td>\n",
       "      <td>1.0</td>\n",
       "      <td>1290.0</td>\n",
       "    </tr>\n",
       "    <tr>\n",
       "      <th>20</th>\n",
       "      <td>2013-01-01</td>\n",
       "      <td>46</td>\n",
       "      <td>16409</td>\n",
       "      <td>149.0</td>\n",
       "      <td>1.0</td>\n",
       "      <td>149.0</td>\n",
       "    </tr>\n",
       "    <tr>\n",
       "      <th>21</th>\n",
       "      <td>2013-01-01</td>\n",
       "      <td>28</td>\n",
       "      <td>6588</td>\n",
       "      <td>549.0</td>\n",
       "      <td>1.0</td>\n",
       "      <td>549.0</td>\n",
       "    </tr>\n",
       "    <tr>\n",
       "      <th>22</th>\n",
       "      <td>2013-01-01</td>\n",
       "      <td>54</td>\n",
       "      <td>10458</td>\n",
       "      <td>298.0</td>\n",
       "      <td>1.0</td>\n",
       "      <td>298.0</td>\n",
       "    </tr>\n",
       "    <tr>\n",
       "      <th>23</th>\n",
       "      <td>2013-01-01</td>\n",
       "      <td>46</td>\n",
       "      <td>16451</td>\n",
       "      <td>499.0</td>\n",
       "      <td>1.0</td>\n",
       "      <td>499.0</td>\n",
       "    </tr>\n",
       "    <tr>\n",
       "      <th>24</th>\n",
       "      <td>2013-01-01</td>\n",
       "      <td>14</td>\n",
       "      <td>16203</td>\n",
       "      <td>599.0</td>\n",
       "      <td>1.0</td>\n",
       "      <td>599.0</td>\n",
       "    </tr>\n",
       "  </tbody>\n",
       "</table>\n",
       "</div>"
      ],
      "text/plain": [
       "         date  shop_id  item_id  item_price  item_cnt_day  item_cnt_month\n",
       "0  2013-01-01       18     5823      2500.0           1.0          2500.0\n",
       "1  2013-01-01       27     5573       849.0           1.0           849.0\n",
       "2  2013-01-01        7     1006       399.0           1.0           399.0\n",
       "3  2013-01-01       19    17707       899.0           1.0           899.0\n",
       "4  2013-01-01       14    19548       149.0           1.0           149.0\n",
       "5  2013-01-01       27     5574       699.0           2.0          1398.0\n",
       "6  2013-01-01        8    16993       399.0           1.0           399.0\n",
       "7  2013-01-01       28     6468       449.0           1.0           449.0\n",
       "8  2013-01-01       19    13071       499.0           1.0           499.0\n",
       "9  2013-01-01       51     6450       483.0           1.0           483.0\n",
       "10 2013-01-01       54    12370       149.0           1.0           149.0\n",
       "11 2013-01-01       42    15702       549.0           1.0           549.0\n",
       "12 2013-01-01       42      413       249.0           1.0           249.0\n",
       "13 2013-01-01       19    12266       129.0           1.0           129.0\n",
       "14 2013-01-01       54    13431     11489.7           1.0         11489.7\n",
       "15 2013-01-01       54     8709       349.0           1.0           349.0\n",
       "16 2013-01-01       54    20144       249.0           1.0           249.0\n",
       "17 2013-01-01       27     6156       399.0           1.0           399.0\n",
       "18 2013-01-01       51    15070       183.0           1.0           183.0\n",
       "19 2013-01-01       19    13102      1290.0           1.0          1290.0\n",
       "20 2013-01-01       46    16409       149.0           1.0           149.0\n",
       "21 2013-01-01       28     6588       549.0           1.0           549.0\n",
       "22 2013-01-01       54    10458       298.0           1.0           298.0\n",
       "23 2013-01-01       46    16451       499.0           1.0           499.0\n",
       "24 2013-01-01       14    16203       599.0           1.0           599.0"
      ]
     },
     "execution_count": 44,
     "metadata": {},
     "output_type": "execute_result"
    }
   ],
   "source": [
    "df_sales_train.head(25)"
   ]
  },
  {
   "cell_type": "code",
   "execution_count": 45,
   "id": "aaa3f10a",
   "metadata": {
    "execution": {
     "iopub.execute_input": "2025-01-11T11:55:15.518062Z",
     "iopub.status.busy": "2025-01-11T11:55:15.517669Z",
     "iopub.status.idle": "2025-01-11T11:55:17.251385Z",
     "shell.execute_reply": "2025-01-11T11:55:17.250421Z"
    },
    "papermill": {
     "duration": 1.752238,
     "end_time": "2025-01-11T11:55:17.253413",
     "exception": false,
     "start_time": "2025-01-11T11:55:15.501175",
     "status": "completed"
    },
    "tags": []
   },
   "outputs": [],
   "source": [
    "#Now our dataset is ready for modelling WE ARE USING THE support vector machine problem\n",
    "import matplotlib.pyplot as plt\n",
    "from sklearn.svm import SVR\n",
    "from sklearn.model_selection import train_test_split\n",
    "X_train,X_test,y_train,y_test=train_test_split(df_sales_train.iloc[:,1:4],df_sales_train.item_cnt_month,test_size=0.3)"
   ]
  },
  {
   "cell_type": "code",
   "execution_count": 46,
   "id": "f2912ecc",
   "metadata": {
    "execution": {
     "iopub.execute_input": "2025-01-11T11:55:17.287570Z",
     "iopub.status.busy": "2025-01-11T11:55:17.287014Z",
     "iopub.status.idle": "2025-01-11T11:55:17.637068Z",
     "shell.execute_reply": "2025-01-11T11:55:17.635999Z"
    },
    "papermill": {
     "duration": 0.369161,
     "end_time": "2025-01-11T11:55:17.639031",
     "exception": false,
     "start_time": "2025-01-11T11:55:17.269870",
     "status": "completed"
    },
    "tags": []
   },
   "outputs": [],
   "source": [
    "from sklearn.ensemble import RandomForestRegressor\n",
    "\n",
    "model=RandomForestRegressor(n_estimators=150,random_state=16)"
   ]
  },
  {
   "cell_type": "code",
   "execution_count": 47,
   "id": "6209292c",
   "metadata": {
    "execution": {
     "iopub.execute_input": "2025-01-11T11:55:17.671408Z",
     "iopub.status.busy": "2025-01-11T11:55:17.671035Z",
     "iopub.status.idle": "2025-01-11T12:09:33.700267Z",
     "shell.execute_reply": "2025-01-11T12:09:33.699069Z"
    },
    "papermill": {
     "duration": 856.12296,
     "end_time": "2025-01-11T12:09:33.777695",
     "exception": false,
     "start_time": "2025-01-11T11:55:17.654735",
     "status": "completed"
    },
    "tags": []
   },
   "outputs": [
    {
     "data": {
      "text/html": [
       "<style>#sk-container-id-1 {color: black;background-color: white;}#sk-container-id-1 pre{padding: 0;}#sk-container-id-1 div.sk-toggleable {background-color: white;}#sk-container-id-1 label.sk-toggleable__label {cursor: pointer;display: block;width: 100%;margin-bottom: 0;padding: 0.3em;box-sizing: border-box;text-align: center;}#sk-container-id-1 label.sk-toggleable__label-arrow:before {content: \"▸\";float: left;margin-right: 0.25em;color: #696969;}#sk-container-id-1 label.sk-toggleable__label-arrow:hover:before {color: black;}#sk-container-id-1 div.sk-estimator:hover label.sk-toggleable__label-arrow:before {color: black;}#sk-container-id-1 div.sk-toggleable__content {max-height: 0;max-width: 0;overflow: hidden;text-align: left;background-color: #f0f8ff;}#sk-container-id-1 div.sk-toggleable__content pre {margin: 0.2em;color: black;border-radius: 0.25em;background-color: #f0f8ff;}#sk-container-id-1 input.sk-toggleable__control:checked~div.sk-toggleable__content {max-height: 200px;max-width: 100%;overflow: auto;}#sk-container-id-1 input.sk-toggleable__control:checked~label.sk-toggleable__label-arrow:before {content: \"▾\";}#sk-container-id-1 div.sk-estimator input.sk-toggleable__control:checked~label.sk-toggleable__label {background-color: #d4ebff;}#sk-container-id-1 div.sk-label input.sk-toggleable__control:checked~label.sk-toggleable__label {background-color: #d4ebff;}#sk-container-id-1 input.sk-hidden--visually {border: 0;clip: rect(1px 1px 1px 1px);clip: rect(1px, 1px, 1px, 1px);height: 1px;margin: -1px;overflow: hidden;padding: 0;position: absolute;width: 1px;}#sk-container-id-1 div.sk-estimator {font-family: monospace;background-color: #f0f8ff;border: 1px dotted black;border-radius: 0.25em;box-sizing: border-box;margin-bottom: 0.5em;}#sk-container-id-1 div.sk-estimator:hover {background-color: #d4ebff;}#sk-container-id-1 div.sk-parallel-item::after {content: \"\";width: 100%;border-bottom: 1px solid gray;flex-grow: 1;}#sk-container-id-1 div.sk-label:hover label.sk-toggleable__label {background-color: #d4ebff;}#sk-container-id-1 div.sk-serial::before {content: \"\";position: absolute;border-left: 1px solid gray;box-sizing: border-box;top: 0;bottom: 0;left: 50%;z-index: 0;}#sk-container-id-1 div.sk-serial {display: flex;flex-direction: column;align-items: center;background-color: white;padding-right: 0.2em;padding-left: 0.2em;position: relative;}#sk-container-id-1 div.sk-item {position: relative;z-index: 1;}#sk-container-id-1 div.sk-parallel {display: flex;align-items: stretch;justify-content: center;background-color: white;position: relative;}#sk-container-id-1 div.sk-item::before, #sk-container-id-1 div.sk-parallel-item::before {content: \"\";position: absolute;border-left: 1px solid gray;box-sizing: border-box;top: 0;bottom: 0;left: 50%;z-index: -1;}#sk-container-id-1 div.sk-parallel-item {display: flex;flex-direction: column;z-index: 1;position: relative;background-color: white;}#sk-container-id-1 div.sk-parallel-item:first-child::after {align-self: flex-end;width: 50%;}#sk-container-id-1 div.sk-parallel-item:last-child::after {align-self: flex-start;width: 50%;}#sk-container-id-1 div.sk-parallel-item:only-child::after {width: 0;}#sk-container-id-1 div.sk-dashed-wrapped {border: 1px dashed gray;margin: 0 0.4em 0.5em 0.4em;box-sizing: border-box;padding-bottom: 0.4em;background-color: white;}#sk-container-id-1 div.sk-label label {font-family: monospace;font-weight: bold;display: inline-block;line-height: 1.2em;}#sk-container-id-1 div.sk-label-container {text-align: center;}#sk-container-id-1 div.sk-container {/* jupyter's `normalize.less` sets `[hidden] { display: none; }` but bootstrap.min.css set `[hidden] { display: none !important; }` so we also need the `!important` here to be able to override the default hidden behavior on the sphinx rendered scikit-learn.org. See: https://github.com/scikit-learn/scikit-learn/issues/21755 */display: inline-block !important;position: relative;}#sk-container-id-1 div.sk-text-repr-fallback {display: none;}</style><div id=\"sk-container-id-1\" class=\"sk-top-container\"><div class=\"sk-text-repr-fallback\"><pre>RandomForestRegressor(n_estimators=150, random_state=16)</pre><b>In a Jupyter environment, please rerun this cell to show the HTML representation or trust the notebook. <br />On GitHub, the HTML representation is unable to render, please try loading this page with nbviewer.org.</b></div><div class=\"sk-container\" hidden><div class=\"sk-item\"><div class=\"sk-estimator sk-toggleable\"><input class=\"sk-toggleable__control sk-hidden--visually\" id=\"sk-estimator-id-1\" type=\"checkbox\" checked><label for=\"sk-estimator-id-1\" class=\"sk-toggleable__label sk-toggleable__label-arrow\">RandomForestRegressor</label><div class=\"sk-toggleable__content\"><pre>RandomForestRegressor(n_estimators=150, random_state=16)</pre></div></div></div></div></div>"
      ],
      "text/plain": [
       "RandomForestRegressor(n_estimators=150, random_state=16)"
      ]
     },
     "execution_count": 47,
     "metadata": {},
     "output_type": "execute_result"
    }
   ],
   "source": [
    "model.fit(X_train,y_train)"
   ]
  },
  {
   "cell_type": "code",
   "execution_count": 48,
   "id": "ddd684fc",
   "metadata": {
    "execution": {
     "iopub.execute_input": "2025-01-11T12:09:33.811674Z",
     "iopub.status.busy": "2025-01-11T12:09:33.811248Z",
     "iopub.status.idle": "2025-01-11T12:10:44.629341Z",
     "shell.execute_reply": "2025-01-11T12:10:44.628214Z"
    },
    "papermill": {
     "duration": 70.85095,
     "end_time": "2025-01-11T12:10:44.645399",
     "exception": false,
     "start_time": "2025-01-11T12:09:33.794449",
     "status": "completed"
    },
    "tags": []
   },
   "outputs": [
    {
     "data": {
      "text/plain": [
       "0.3114242264383408"
      ]
     },
     "execution_count": 48,
     "metadata": {},
     "output_type": "execute_result"
    }
   ],
   "source": [
    "model.score(X_test,y_test)"
   ]
  },
  {
   "cell_type": "code",
   "execution_count": 49,
   "id": "22d10738",
   "metadata": {
    "execution": {
     "iopub.execute_input": "2025-01-11T12:10:44.678124Z",
     "iopub.status.busy": "2025-01-11T12:10:44.677769Z",
     "iopub.status.idle": "2025-01-11T12:11:54.690536Z",
     "shell.execute_reply": "2025-01-11T12:11:54.689286Z"
    },
    "papermill": {
     "duration": 70.032038,
     "end_time": "2025-01-11T12:11:54.693156",
     "exception": false,
     "start_time": "2025-01-11T12:10:44.661118",
     "status": "completed"
    },
    "tags": []
   },
   "outputs": [],
   "source": [
    "x_predicted=model.predict(X_test)"
   ]
  },
  {
   "cell_type": "code",
   "execution_count": 50,
   "id": "b701eeea",
   "metadata": {
    "execution": {
     "iopub.execute_input": "2025-01-11T12:11:54.727572Z",
     "iopub.status.busy": "2025-01-11T12:11:54.727150Z",
     "iopub.status.idle": "2025-01-11T12:11:54.733343Z",
     "shell.execute_reply": "2025-01-11T12:11:54.732414Z"
    },
    "papermill": {
     "duration": 0.024523,
     "end_time": "2025-01-11T12:11:54.735158",
     "exception": false,
     "start_time": "2025-01-11T12:11:54.710635",
     "status": "completed"
    },
    "tags": []
   },
   "outputs": [
    {
     "data": {
      "text/plain": [
       "array([ 699.        , 3300.        , 2131.08585185, ...,  150.8370955 ,\n",
       "        265.69239453,  419.        ])"
      ]
     },
     "execution_count": 50,
     "metadata": {},
     "output_type": "execute_result"
    }
   ],
   "source": [
    "x_predicted"
   ]
  },
  {
   "cell_type": "code",
   "execution_count": 51,
   "id": "b79fc132",
   "metadata": {
    "execution": {
     "iopub.execute_input": "2025-01-11T12:11:54.768995Z",
     "iopub.status.busy": "2025-01-11T12:11:54.768614Z",
     "iopub.status.idle": "2025-01-11T12:11:54.773093Z",
     "shell.execute_reply": "2025-01-11T12:11:54.771924Z"
    },
    "papermill": {
     "duration": 0.022918,
     "end_time": "2025-01-11T12:11:54.774838",
     "exception": false,
     "start_time": "2025-01-11T12:11:54.751920",
     "status": "completed"
    },
    "tags": []
   },
   "outputs": [],
   "source": [
    "x_predicted=pd.DataFrame(x_predicted)"
   ]
  },
  {
   "cell_type": "code",
   "execution_count": 52,
   "id": "5469de33",
   "metadata": {
    "execution": {
     "iopub.execute_input": "2025-01-11T12:11:54.808489Z",
     "iopub.status.busy": "2025-01-11T12:11:54.808098Z",
     "iopub.status.idle": "2025-01-11T12:11:54.817799Z",
     "shell.execute_reply": "2025-01-11T12:11:54.816749Z"
    },
    "papermill": {
     "duration": 0.028039,
     "end_time": "2025-01-11T12:11:54.819332",
     "exception": false,
     "start_time": "2025-01-11T12:11:54.791293",
     "status": "completed"
    },
    "tags": []
   },
   "outputs": [
    {
     "data": {
      "text/html": [
       "<div>\n",
       "<style scoped>\n",
       "    .dataframe tbody tr th:only-of-type {\n",
       "        vertical-align: middle;\n",
       "    }\n",
       "\n",
       "    .dataframe tbody tr th {\n",
       "        vertical-align: top;\n",
       "    }\n",
       "\n",
       "    .dataframe thead th {\n",
       "        text-align: right;\n",
       "    }\n",
       "</style>\n",
       "<table border=\"1\" class=\"dataframe\">\n",
       "  <thead>\n",
       "    <tr style=\"text-align: right;\">\n",
       "      <th></th>\n",
       "      <th>0</th>\n",
       "    </tr>\n",
       "  </thead>\n",
       "  <tbody>\n",
       "    <tr>\n",
       "      <th>0</th>\n",
       "      <td>699.000000</td>\n",
       "    </tr>\n",
       "    <tr>\n",
       "      <th>1</th>\n",
       "      <td>3300.000000</td>\n",
       "    </tr>\n",
       "    <tr>\n",
       "      <th>2</th>\n",
       "      <td>2131.085852</td>\n",
       "    </tr>\n",
       "    <tr>\n",
       "      <th>3</th>\n",
       "      <td>1533.115069</td>\n",
       "    </tr>\n",
       "    <tr>\n",
       "      <th>4</th>\n",
       "      <td>250.000000</td>\n",
       "    </tr>\n",
       "    <tr>\n",
       "      <th>...</th>\n",
       "      <td>...</td>\n",
       "    </tr>\n",
       "    <tr>\n",
       "      <th>880750</th>\n",
       "      <td>738.573602</td>\n",
       "    </tr>\n",
       "    <tr>\n",
       "      <th>880751</th>\n",
       "      <td>425.628906</td>\n",
       "    </tr>\n",
       "    <tr>\n",
       "      <th>880752</th>\n",
       "      <td>150.837096</td>\n",
       "    </tr>\n",
       "    <tr>\n",
       "      <th>880753</th>\n",
       "      <td>265.692395</td>\n",
       "    </tr>\n",
       "    <tr>\n",
       "      <th>880754</th>\n",
       "      <td>419.000000</td>\n",
       "    </tr>\n",
       "  </tbody>\n",
       "</table>\n",
       "<p>880755 rows × 1 columns</p>\n",
       "</div>"
      ],
      "text/plain": [
       "                  0\n",
       "0        699.000000\n",
       "1       3300.000000\n",
       "2       2131.085852\n",
       "3       1533.115069\n",
       "4        250.000000\n",
       "...             ...\n",
       "880750   738.573602\n",
       "880751   425.628906\n",
       "880752   150.837096\n",
       "880753   265.692395\n",
       "880754   419.000000\n",
       "\n",
       "[880755 rows x 1 columns]"
      ]
     },
     "execution_count": 52,
     "metadata": {},
     "output_type": "execute_result"
    }
   ],
   "source": [
    "x_predicted"
   ]
  },
  {
   "cell_type": "code",
   "execution_count": 53,
   "id": "64324274",
   "metadata": {
    "execution": {
     "iopub.execute_input": "2025-01-11T12:11:54.853650Z",
     "iopub.status.busy": "2025-01-11T12:11:54.853187Z",
     "iopub.status.idle": "2025-01-11T12:11:54.858623Z",
     "shell.execute_reply": "2025-01-11T12:11:54.857629Z"
    },
    "papermill": {
     "duration": 0.024761,
     "end_time": "2025-01-11T12:11:54.860316",
     "exception": false,
     "start_time": "2025-01-11T12:11:54.835555",
     "status": "completed"
    },
    "tags": []
   },
   "outputs": [],
   "source": [
    "#x_predicted.columns.values[0]='0'\n",
    "#column_index_to_rename = 0\n",
    "#new_column_name = 'item_cnt_month'\n",
    "x_predicted.rename(columns={x_predicted.columns[0]: 'item_cnt_month'}, inplace=True)"
   ]
  },
  {
   "cell_type": "code",
   "execution_count": 54,
   "id": "e80902c0",
   "metadata": {
    "execution": {
     "iopub.execute_input": "2025-01-11T12:11:54.895153Z",
     "iopub.status.busy": "2025-01-11T12:11:54.894778Z",
     "iopub.status.idle": "2025-01-11T12:11:54.906270Z",
     "shell.execute_reply": "2025-01-11T12:11:54.905009Z"
    },
    "papermill": {
     "duration": 0.031009,
     "end_time": "2025-01-11T12:11:54.908205",
     "exception": false,
     "start_time": "2025-01-11T12:11:54.877196",
     "status": "completed"
    },
    "tags": []
   },
   "outputs": [
    {
     "data": {
      "text/html": [
       "<div>\n",
       "<style scoped>\n",
       "    .dataframe tbody tr th:only-of-type {\n",
       "        vertical-align: middle;\n",
       "    }\n",
       "\n",
       "    .dataframe tbody tr th {\n",
       "        vertical-align: top;\n",
       "    }\n",
       "\n",
       "    .dataframe thead th {\n",
       "        text-align: right;\n",
       "    }\n",
       "</style>\n",
       "<table border=\"1\" class=\"dataframe\">\n",
       "  <thead>\n",
       "    <tr style=\"text-align: right;\">\n",
       "      <th></th>\n",
       "      <th>item_cnt_month</th>\n",
       "      <th>ID</th>\n",
       "    </tr>\n",
       "  </thead>\n",
       "  <tbody>\n",
       "    <tr>\n",
       "      <th>0</th>\n",
       "      <td>699.000000</td>\n",
       "      <td>0</td>\n",
       "    </tr>\n",
       "    <tr>\n",
       "      <th>1</th>\n",
       "      <td>3300.000000</td>\n",
       "      <td>1</td>\n",
       "    </tr>\n",
       "    <tr>\n",
       "      <th>2</th>\n",
       "      <td>2131.085852</td>\n",
       "      <td>2</td>\n",
       "    </tr>\n",
       "    <tr>\n",
       "      <th>3</th>\n",
       "      <td>1533.115069</td>\n",
       "      <td>3</td>\n",
       "    </tr>\n",
       "    <tr>\n",
       "      <th>4</th>\n",
       "      <td>250.000000</td>\n",
       "      <td>4</td>\n",
       "    </tr>\n",
       "    <tr>\n",
       "      <th>...</th>\n",
       "      <td>...</td>\n",
       "      <td>...</td>\n",
       "    </tr>\n",
       "    <tr>\n",
       "      <th>880750</th>\n",
       "      <td>738.573602</td>\n",
       "      <td>880750</td>\n",
       "    </tr>\n",
       "    <tr>\n",
       "      <th>880751</th>\n",
       "      <td>425.628906</td>\n",
       "      <td>880751</td>\n",
       "    </tr>\n",
       "    <tr>\n",
       "      <th>880752</th>\n",
       "      <td>150.837096</td>\n",
       "      <td>880752</td>\n",
       "    </tr>\n",
       "    <tr>\n",
       "      <th>880753</th>\n",
       "      <td>265.692395</td>\n",
       "      <td>880753</td>\n",
       "    </tr>\n",
       "    <tr>\n",
       "      <th>880754</th>\n",
       "      <td>419.000000</td>\n",
       "      <td>880754</td>\n",
       "    </tr>\n",
       "  </tbody>\n",
       "</table>\n",
       "<p>880755 rows × 2 columns</p>\n",
       "</div>"
      ],
      "text/plain": [
       "        item_cnt_month      ID\n",
       "0           699.000000       0\n",
       "1          3300.000000       1\n",
       "2          2131.085852       2\n",
       "3          1533.115069       3\n",
       "4           250.000000       4\n",
       "...                ...     ...\n",
       "880750      738.573602  880750\n",
       "880751      425.628906  880751\n",
       "880752      150.837096  880752\n",
       "880753      265.692395  880753\n",
       "880754      419.000000  880754\n",
       "\n",
       "[880755 rows x 2 columns]"
      ]
     },
     "execution_count": 54,
     "metadata": {},
     "output_type": "execute_result"
    }
   ],
   "source": [
    "\n",
    "\n",
    "x_predicted['ID'] = range(0, len(x_predicted) )\n",
    "\n",
    "x_predicted"
   ]
  },
  {
   "cell_type": "code",
   "execution_count": 55,
   "id": "e8302196",
   "metadata": {
    "execution": {
     "iopub.execute_input": "2025-01-11T12:11:54.944282Z",
     "iopub.status.busy": "2025-01-11T12:11:54.943898Z",
     "iopub.status.idle": "2025-01-11T12:11:54.954943Z",
     "shell.execute_reply": "2025-01-11T12:11:54.953574Z"
    },
    "papermill": {
     "duration": 0.032003,
     "end_time": "2025-01-11T12:11:54.957214",
     "exception": false,
     "start_time": "2025-01-11T12:11:54.925211",
     "status": "completed"
    },
    "tags": []
   },
   "outputs": [],
   "source": [
    "x_predicted_new=x_predicted.iloc[:,[1,0]]"
   ]
  },
  {
   "cell_type": "code",
   "execution_count": 56,
   "id": "5cef337e",
   "metadata": {
    "execution": {
     "iopub.execute_input": "2025-01-11T12:11:54.991713Z",
     "iopub.status.busy": "2025-01-11T12:11:54.991326Z",
     "iopub.status.idle": "2025-01-11T12:11:55.002174Z",
     "shell.execute_reply": "2025-01-11T12:11:55.000998Z"
    },
    "papermill": {
     "duration": 0.030197,
     "end_time": "2025-01-11T12:11:55.003852",
     "exception": false,
     "start_time": "2025-01-11T12:11:54.973655",
     "status": "completed"
    },
    "tags": []
   },
   "outputs": [
    {
     "data": {
      "text/html": [
       "<div>\n",
       "<style scoped>\n",
       "    .dataframe tbody tr th:only-of-type {\n",
       "        vertical-align: middle;\n",
       "    }\n",
       "\n",
       "    .dataframe tbody tr th {\n",
       "        vertical-align: top;\n",
       "    }\n",
       "\n",
       "    .dataframe thead th {\n",
       "        text-align: right;\n",
       "    }\n",
       "</style>\n",
       "<table border=\"1\" class=\"dataframe\">\n",
       "  <thead>\n",
       "    <tr style=\"text-align: right;\">\n",
       "      <th></th>\n",
       "      <th>ID</th>\n",
       "      <th>item_cnt_month</th>\n",
       "    </tr>\n",
       "  </thead>\n",
       "  <tbody>\n",
       "    <tr>\n",
       "      <th>0</th>\n",
       "      <td>0</td>\n",
       "      <td>699.000000</td>\n",
       "    </tr>\n",
       "    <tr>\n",
       "      <th>1</th>\n",
       "      <td>1</td>\n",
       "      <td>3300.000000</td>\n",
       "    </tr>\n",
       "    <tr>\n",
       "      <th>2</th>\n",
       "      <td>2</td>\n",
       "      <td>2131.085852</td>\n",
       "    </tr>\n",
       "    <tr>\n",
       "      <th>3</th>\n",
       "      <td>3</td>\n",
       "      <td>1533.115069</td>\n",
       "    </tr>\n",
       "    <tr>\n",
       "      <th>4</th>\n",
       "      <td>4</td>\n",
       "      <td>250.000000</td>\n",
       "    </tr>\n",
       "    <tr>\n",
       "      <th>...</th>\n",
       "      <td>...</td>\n",
       "      <td>...</td>\n",
       "    </tr>\n",
       "    <tr>\n",
       "      <th>880750</th>\n",
       "      <td>880750</td>\n",
       "      <td>738.573602</td>\n",
       "    </tr>\n",
       "    <tr>\n",
       "      <th>880751</th>\n",
       "      <td>880751</td>\n",
       "      <td>425.628906</td>\n",
       "    </tr>\n",
       "    <tr>\n",
       "      <th>880752</th>\n",
       "      <td>880752</td>\n",
       "      <td>150.837096</td>\n",
       "    </tr>\n",
       "    <tr>\n",
       "      <th>880753</th>\n",
       "      <td>880753</td>\n",
       "      <td>265.692395</td>\n",
       "    </tr>\n",
       "    <tr>\n",
       "      <th>880754</th>\n",
       "      <td>880754</td>\n",
       "      <td>419.000000</td>\n",
       "    </tr>\n",
       "  </tbody>\n",
       "</table>\n",
       "<p>880755 rows × 2 columns</p>\n",
       "</div>"
      ],
      "text/plain": [
       "            ID  item_cnt_month\n",
       "0            0      699.000000\n",
       "1            1     3300.000000\n",
       "2            2     2131.085852\n",
       "3            3     1533.115069\n",
       "4            4      250.000000\n",
       "...        ...             ...\n",
       "880750  880750      738.573602\n",
       "880751  880751      425.628906\n",
       "880752  880752      150.837096\n",
       "880753  880753      265.692395\n",
       "880754  880754      419.000000\n",
       "\n",
       "[880755 rows x 2 columns]"
      ]
     },
     "execution_count": 56,
     "metadata": {},
     "output_type": "execute_result"
    }
   ],
   "source": [
    "x_predicted_new"
   ]
  },
  {
   "cell_type": "markdown",
   "id": "4ed77640",
   "metadata": {
    "papermill": {
     "duration": 0.016205,
     "end_time": "2025-01-11T12:11:55.036730",
     "exception": false,
     "start_time": "2025-01-11T12:11:55.020525",
     "status": "completed"
    },
    "tags": []
   },
   "source": [
    "x_predicted_new"
   ]
  },
  {
   "cell_type": "code",
   "execution_count": 57,
   "id": "7d93256d",
   "metadata": {
    "execution": {
     "iopub.execute_input": "2025-01-11T12:11:55.072322Z",
     "iopub.status.busy": "2025-01-11T12:11:55.071927Z",
     "iopub.status.idle": "2025-01-11T12:11:56.548579Z",
     "shell.execute_reply": "2025-01-11T12:11:56.547687Z"
    },
    "papermill": {
     "duration": 1.496741,
     "end_time": "2025-01-11T12:11:56.550444",
     "exception": false,
     "start_time": "2025-01-11T12:11:55.053703",
     "status": "completed"
    },
    "tags": []
   },
   "outputs": [],
   "source": [
    "x_predicted_new.to_csv('submission.csv',index=False)"
   ]
  },
  {
   "cell_type": "code",
   "execution_count": null,
   "id": "9936bd9d",
   "metadata": {
    "execution": {
     "iopub.status.busy": "2025-01-11T11:48:19.091633Z",
     "iopub.status.idle": "2025-01-11T11:48:19.092015Z",
     "shell.execute_reply": "2025-01-11T11:48:19.091850Z"
    },
    "papermill": {
     "duration": 0.015951,
     "end_time": "2025-01-11T12:11:56.582910",
     "exception": false,
     "start_time": "2025-01-11T12:11:56.566959",
     "status": "completed"
    },
    "tags": []
   },
   "outputs": [],
   "source": []
  },
  {
   "cell_type": "code",
   "execution_count": null,
   "id": "86a95569",
   "metadata": {
    "papermill": {
     "duration": 0.016026,
     "end_time": "2025-01-11T12:11:56.615158",
     "exception": false,
     "start_time": "2025-01-11T12:11:56.599132",
     "status": "completed"
    },
    "tags": []
   },
   "outputs": [],
   "source": []
  }
 ],
 "metadata": {
  "kaggle": {
   "accelerator": "none",
   "dataSources": [
    {
     "databundleVersionId": 868304,
     "sourceId": 8587,
     "sourceType": "competition"
    }
   ],
   "dockerImageVersionId": 30822,
   "isGpuEnabled": false,
   "isInternetEnabled": true,
   "language": "python",
   "sourceType": "notebook"
  },
  "kernelspec": {
   "display_name": "Python 3",
   "language": "python",
   "name": "python3"
  },
  "language_info": {
   "codemirror_mode": {
    "name": "ipython",
    "version": 3
   },
   "file_extension": ".py",
   "mimetype": "text/x-python",
   "name": "python",
   "nbconvert_exporter": "python",
   "pygments_lexer": "ipython3",
   "version": "3.10.12"
  },
  "papermill": {
   "default_parameters": {},
   "duration": 1009.933315,
   "end_time": "2025-01-11T12:11:57.655420",
   "environment_variables": {},
   "exception": null,
   "input_path": "__notebook__.ipynb",
   "output_path": "__notebook__.ipynb",
   "parameters": {},
   "start_time": "2025-01-11T11:55:07.722105",
   "version": "2.6.0"
  }
 },
 "nbformat": 4,
 "nbformat_minor": 5
}
